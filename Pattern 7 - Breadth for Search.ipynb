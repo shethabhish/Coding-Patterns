{
 "cells": [
  {
   "cell_type": "code",
   "execution_count": 1,
   "metadata": {},
   "outputs": [],
   "source": [
    "class Tree:\n",
    "    def __init__(self,value):\n",
    "        self.value = value\n",
    "        self.left = None\n",
    "        self.right = None"
   ]
  },
  {
   "cell_type": "code",
   "execution_count": 2,
   "metadata": {},
   "outputs": [],
   "source": [
    "#Binary Tree Level Order Traversal\n",
    "from collections import deque\n",
    "def traverse(root):\n",
    "    result = []\n",
    "    if root is None:\n",
    "        return result\n",
    "    queue = deque()\n",
    "    queue.append(root)\n",
    "    while queue:\n",
    "        levelsize = len(queue)\n",
    "        currentlevel = []\n",
    "        for _ in range(levelsize):\n",
    "            currentnode = queue.popleft()\n",
    "            currentlevel.append(currentnode.value)\n",
    "            \n",
    "            if currentnode.left:\n",
    "                queue.append(currentnode.left)\n",
    "            if currentnode.right:\n",
    "                queue.append(currentnode.right)\n",
    "        result.append(currentlevel)\n",
    "    return result"
   ]
  },
  {
   "cell_type": "code",
   "execution_count": 3,
   "metadata": {},
   "outputs": [],
   "source": [
    "root = Tree(12)\n",
    "root.left = Tree(7)\n",
    "root.right = Tree(1)\n",
    "root.left.left = Tree(9)\n",
    "root.right.left = Tree(10)\n",
    "root.right.right = Tree(5)"
   ]
  },
  {
   "cell_type": "code",
   "execution_count": 4,
   "metadata": {},
   "outputs": [
    {
     "data": {
      "text/plain": [
       "[[12], [7, 1], [9, 10, 5]]"
      ]
     },
     "execution_count": 4,
     "metadata": {},
     "output_type": "execute_result"
    }
   ],
   "source": [
    "traverse(root)\n",
    "#Time complexity O(N) and Space Complexity O(N)"
   ]
  },
  {
   "cell_type": "code",
   "execution_count": 5,
   "metadata": {},
   "outputs": [],
   "source": [
    "#Reverse Level Order Traversal \n",
    "from collections import deque\n",
    "def reverse_traverse(root):\n",
    "    result = deque()\n",
    "    if root is None:\n",
    "        return result\n",
    "    \n",
    "    queue = deque()\n",
    "    queue.append(root)\n",
    "    while queue:\n",
    "        levelsize = len(queue)\n",
    "        currentlevel = []\n",
    "        for _ in range(levelsize):\n",
    "            currentnode = queue.popleft()\n",
    "            currentlevel.append(currentnode.value)\n",
    "            \n",
    "            if currentnode.left:\n",
    "                queue.append(currentnode.left)\n",
    "            if currentnode.right:\n",
    "                queue.append(currentnode.right)\n",
    "        result.appendleft(currentlevel)\n",
    "    return list(result)"
   ]
  },
  {
   "cell_type": "code",
   "execution_count": 6,
   "metadata": {},
   "outputs": [
    {
     "data": {
      "text/plain": [
       "[[9, 10, 5], [7, 1], [12]]"
      ]
     },
     "execution_count": 6,
     "metadata": {},
     "output_type": "execute_result"
    }
   ],
   "source": [
    "reverse_traverse(root)\n",
    "#Time complexity O(N) and Space Complexity O(N)"
   ]
  },
  {
   "cell_type": "code",
   "execution_count": 7,
   "metadata": {},
   "outputs": [],
   "source": [
    "#Zigzag Traversal\n",
    "from collections import deque\n",
    "def zigzag(root):\n",
    "    result = []\n",
    "    if root is None:\n",
    "        return result\n",
    "    queue = deque()\n",
    "    lefttoright = True\n",
    "    queue.append(root)\n",
    "    while queue:\n",
    "        currentlevel = deque()\n",
    "        levelsize = len(queue)\n",
    "        for _ in range(levelsize):\n",
    "            currentnode = queue.popleft()\n",
    "            if lefttoright:\n",
    "                currentlevel.append(currentnode.value)\n",
    "            else:\n",
    "                currentlevel.appendleft(currentnode.value)\n",
    "            \n",
    "            if currentnode.left:\n",
    "                queue.append(currentnode.left)\n",
    "            if currentnode.right:\n",
    "                queue.append(currentnode.right)\n",
    "        result.append(list(currentlevel))\n",
    "        lefttoright = not lefttoright\n",
    "    return result"
   ]
  },
  {
   "cell_type": "code",
   "execution_count": 8,
   "metadata": {},
   "outputs": [
    {
     "data": {
      "text/plain": [
       "[[12], [1, 7], [9, 10, 5]]"
      ]
     },
     "execution_count": 8,
     "metadata": {},
     "output_type": "execute_result"
    }
   ],
   "source": [
    "zigzag(root)\n",
    "#Time complexity O(N) and Space Complexity O(N)"
   ]
  },
  {
   "cell_type": "code",
   "execution_count": 9,
   "metadata": {},
   "outputs": [],
   "source": [
    "#Level Averages in a Binary Tree\n",
    "from collections import deque\n",
    "def level_average(root):\n",
    "    result = []\n",
    "    if root is None:\n",
    "        return result\n",
    "    queue = deque()\n",
    "    queue.append(root)\n",
    "    while queue:\n",
    "        levelsize = len(queue)\n",
    "        currentlevel = []\n",
    "        for _ in range(levelsize):\n",
    "            currentnode = queue.popleft()\n",
    "            currentlevel.append(currentnode.value)\n",
    "            \n",
    "            if currentnode.left:\n",
    "                queue.append(currentnode.left)\n",
    "            if currentnode.right:\n",
    "                queue.append(currentnode.right)\n",
    "            \n",
    "        result.append(sum(currentlevel)/len(currentlevel))\n",
    "    return result"
   ]
  },
  {
   "cell_type": "code",
   "execution_count": 10,
   "metadata": {},
   "outputs": [
    {
     "data": {
      "text/plain": [
       "[12.0, 4.0, 8.0]"
      ]
     },
     "execution_count": 10,
     "metadata": {},
     "output_type": "execute_result"
    }
   ],
   "source": [
    "level_average(root)\n",
    "#Time complexity O(N) and Space Complexity O(N)"
   ]
  },
  {
   "cell_type": "code",
   "execution_count": 11,
   "metadata": {},
   "outputs": [],
   "source": [
    "#Minimum Depth of a Binary Tree\n",
    "from collections import deque\n",
    "def minimum_depth(root):\n",
    "    if root is None:\n",
    "        return 0\n",
    "    queue = deque()\n",
    "    queue.append(root)\n",
    "    minimumdepth = 0\n",
    "    while queue:\n",
    "        minimumdepth += 1\n",
    "        levelsize = len(queue)\n",
    "        for _ in range(levelsize):\n",
    "            \n",
    "            currentnode = queue.popleft()\n",
    "            \n",
    "            if not currentnode.left and not currentnode.right:\n",
    "                return minimumdepth\n",
    "            \n",
    "            if currentnode.left:\n",
    "                queue.append(currentnode.left)\n",
    "            if currentnode.right:\n",
    "                queue.append(currentnode.right)"
   ]
  },
  {
   "cell_type": "code",
   "execution_count": 12,
   "metadata": {},
   "outputs": [],
   "source": [
    "root = Tree(12)\n",
    "root.left = Tree(7)\n",
    "root.right = Tree(1)\n",
    "root.right.left = Tree(10)\n",
    "root.right.right = Tree(5)"
   ]
  },
  {
   "cell_type": "code",
   "execution_count": 13,
   "metadata": {},
   "outputs": [
    {
     "data": {
      "text/plain": [
       "2"
      ]
     },
     "execution_count": 13,
     "metadata": {},
     "output_type": "execute_result"
    }
   ],
   "source": [
    "minimum_depth(root)\n",
    "#Time complexity O(N) and Space Complexity O(N)"
   ]
  },
  {
   "cell_type": "code",
   "execution_count": 14,
   "metadata": {},
   "outputs": [],
   "source": [
    "#Level Order Succesor\n",
    "from collections import deque\n",
    "def level(root,key):\n",
    "    if root is None:\n",
    "        return None\n",
    "    queue = deque()\n",
    "    queue.append(root)\n",
    "    while queue:\n",
    "        currentnode = queue.popleft()\n",
    "        if currentnode.left:\n",
    "            queue.append(currentnode.left)\n",
    "        if currentnode.right:\n",
    "            queue.append(currentnode.right)\n",
    "        if currentnode.value == key:\n",
    "            break\n",
    "    return queue[0].value if queue else None"
   ]
  },
  {
   "cell_type": "code",
   "execution_count": 15,
   "metadata": {},
   "outputs": [],
   "source": [
    "root = Tree(12)\n",
    "root.left = Tree(7)\n",
    "root.right = Tree(1)\n",
    "root.left.left = Tree(9)\n",
    "root.right.left = Tree(10)\n",
    "root.right.right = Tree(5)"
   ]
  },
  {
   "cell_type": "code",
   "execution_count": 16,
   "metadata": {},
   "outputs": [
    {
     "data": {
      "text/plain": [
       "7"
      ]
     },
     "execution_count": 16,
     "metadata": {},
     "output_type": "execute_result"
    }
   ],
   "source": [
    "level(root,12)\n",
    "#Time complexity O(N) and Space Complexity O(N)"
   ]
  },
  {
   "cell_type": "code",
   "execution_count": 17,
   "metadata": {},
   "outputs": [],
   "source": [
    "class Tree:\n",
    "    def __init__(self,value):\n",
    "        self.value = value\n",
    "        self.left = None\n",
    "        self.right = None\n",
    "        self.next = None\n",
    "    \n",
    "    def print_level_order(self):\n",
    "        nextLevelRoot = self\n",
    "        while nextLevelRoot:\n",
    "            current = nextLevelRoot\n",
    "            nextLevelRoot = None\n",
    "            while current:\n",
    "                print(str(current.value)+\" \",end =\" \")\n",
    "                if not nextLevelRoot:\n",
    "                    if current.left:\n",
    "                        nextLevelRoot = current.left\n",
    "                    elif current.right:\n",
    "                        nextLevelRoot = current.right\n",
    "                current = current.next\n",
    "            print()"
   ]
  },
  {
   "cell_type": "code",
   "execution_count": 18,
   "metadata": {},
   "outputs": [],
   "source": [
    "root = Tree(12)\n",
    "root.left = Tree(7)\n",
    "root.right = Tree(1)\n",
    "root.left.left = Tree(9)\n",
    "root.right.left = Tree(10)\n",
    "root.right.right = Tree(5)"
   ]
  },
  {
   "cell_type": "code",
   "execution_count": 19,
   "metadata": {},
   "outputs": [],
   "source": [
    "#Connect Level Order Siblings\n",
    "from collections import deque\n",
    "def connect(root):\n",
    "    if root is None:\n",
    "        return \n",
    "    queue = deque()\n",
    "    queue.append(root)\n",
    "    while queue:\n",
    "        levelsize = len(queue)\n",
    "        previousNode = None\n",
    "        for _ in range(levelsize):\n",
    "            currentnode = queue.popleft()\n",
    "            if previousNode:\n",
    "                previousNode.next = currentnode\n",
    "            previousNode = currentnode\n",
    "            \n",
    "            if currentnode.left:\n",
    "                queue.append(currentnode.left)\n",
    "            if currentnode.right:\n",
    "                queue.append(currentnode.right)"
   ]
  },
  {
   "cell_type": "code",
   "execution_count": 20,
   "metadata": {},
   "outputs": [
    {
     "name": "stdout",
     "output_type": "stream",
     "text": [
      "12  \n",
      "7  1  \n",
      "9  10  5  \n"
     ]
    }
   ],
   "source": [
    "connect(root)\n",
    "root.print_level_order()\n",
    "#Time complexity O(N) and Space Complexity O(N)"
   ]
  },
  {
   "cell_type": "code",
   "execution_count": 21,
   "metadata": {},
   "outputs": [],
   "source": [
    "class Tree:\n",
    "    def __init__(self,value):\n",
    "        self.value = value\n",
    "        self.left = None\n",
    "        self.right = None\n",
    "        self.next = None\n",
    "    \n",
    "    def print_tree(self):\n",
    "        current = self\n",
    "        while current:\n",
    "            print(str(current.value)+\" \",end =\" \")\n",
    "            current = current.next"
   ]
  },
  {
   "cell_type": "code",
   "execution_count": 22,
   "metadata": {},
   "outputs": [],
   "source": [
    "#Connect All Level Order Siblings\n",
    "from collections import deque\n",
    "def connect_all(root):\n",
    "    if root is None:\n",
    "        return\n",
    "    queue = deque()\n",
    "    queue.append(root)\n",
    "    previousnode,currentnode = None, None\n",
    "    while queue:\n",
    "        currentnode = queue.popleft()\n",
    "        if previousnode:\n",
    "            previousnode.next = currentnode\n",
    "        previousnode = currentnode\n",
    "        \n",
    "        if currentnode.left:\n",
    "            queue.append(currentnode.left)\n",
    "        if currentnode.right:\n",
    "            queue.append(currentnode.right)"
   ]
  },
  {
   "cell_type": "code",
   "execution_count": 23,
   "metadata": {},
   "outputs": [],
   "source": [
    "root = Tree(12)\n",
    "root.left = Tree(7)\n",
    "root.right = Tree(1)\n",
    "root.left.left = Tree(9)\n",
    "root.right.left = Tree(10)\n",
    "root.right.right = Tree(5)"
   ]
  },
  {
   "cell_type": "code",
   "execution_count": 24,
   "metadata": {},
   "outputs": [
    {
     "name": "stdout",
     "output_type": "stream",
     "text": [
      "12  7  1  9  10  5  "
     ]
    }
   ],
   "source": [
    "connect_all(root)\n",
    "root.print_tree()\n",
    "#Time complexity O(N) and Space Complexity O(N)"
   ]
  },
  {
   "cell_type": "code",
   "execution_count": 25,
   "metadata": {},
   "outputs": [],
   "source": [
    "#Right View of Tree\n",
    "def right_view(root):\n",
    "    result = []\n",
    "    if root is None:\n",
    "        return result\n",
    "    queue = deque()\n",
    "    queue.append(root)\n",
    "    while queue:\n",
    "        levelsize = len(queue)\n",
    "        for i in range(levelsize):\n",
    "            currentnode = queue.popleft()\n",
    "            \n",
    "            if i == levelsize - 1:\n",
    "                result.append(currentnode.value)\n",
    "            if currentnode.left:\n",
    "                queue.append(currentnode.left)\n",
    "            if currentnode.right:\n",
    "                queue.append(currentnode.right)\n",
    "    return result"
   ]
  },
  {
   "cell_type": "code",
   "execution_count": 26,
   "metadata": {},
   "outputs": [
    {
     "data": {
      "text/plain": [
       "[12, 1, 5, 3]"
      ]
     },
     "execution_count": 26,
     "metadata": {},
     "output_type": "execute_result"
    }
   ],
   "source": [
    "root.left.left.left = Tree(3)\n",
    "right_view(root)\n",
    "#Time complexity O(N) and Space Complexity O(N)"
   ]
  }
 ],
 "metadata": {
  "kernelspec": {
   "display_name": "Python 3",
   "language": "python",
   "name": "python3"
  },
  "language_info": {
   "codemirror_mode": {
    "name": "ipython",
    "version": 3
   },
   "file_extension": ".py",
   "mimetype": "text/x-python",
   "name": "python",
   "nbconvert_exporter": "python",
   "pygments_lexer": "ipython3",
   "version": "3.7.6"
  }
 },
 "nbformat": 4,
 "nbformat_minor": 4
}
