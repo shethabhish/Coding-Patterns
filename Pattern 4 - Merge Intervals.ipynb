{
 "cells": [
  {
   "cell_type": "code",
   "execution_count": 1,
   "metadata": {},
   "outputs": [],
   "source": [
    "#Merge Intervals\n",
    "def merge(intervals):\n",
    "    intervals.sort(key = lambda x:x[0])\n",
    "    i = 1\n",
    "    while i < len(intervals):\n",
    "        if intervals[i][0] < intervals[i-1][1]:\n",
    "            intervals[i-1][0] = min(intervals[i-1][0],intervals[i][0])\n",
    "            intervals[i-1][1] = max(intervals[i-1][1],intervals[i][1])\n",
    "            intervals.pop(i)\n",
    "        else:\n",
    "            i+=1\n",
    "    return intervals"
   ]
  },
  {
   "cell_type": "code",
   "execution_count": 2,
   "metadata": {},
   "outputs": [
    {
     "data": {
      "text/plain": [
       "[[2, 4], [5, 9]]"
      ]
     },
     "execution_count": 2,
     "metadata": {},
     "output_type": "execute_result"
    }
   ],
   "source": [
    "merge([[6,7], [2,4], [5,9]])\n",
    "#Time Complexity O(nlogn) and Space Complexity O(1)"
   ]
  },
  {
   "cell_type": "code",
   "execution_count": 3,
   "metadata": {},
   "outputs": [],
   "source": [
    "def insert(intervals,newinterval):\n",
    "    merged = []\n",
    "    i,start,end = 0,0,1\n",
    "    while i < len(intervals) and intervals[i][end] < newinterval[start]:\n",
    "        merged.append(intervals[i])\n",
    "        i+=1\n",
    "    while i < len(intervals) and intervals[i][start] <= newinterval[end]:\n",
    "        newinterval[start] = min(intervals[i][start],newinterval[start])\n",
    "        newinterval[end] = max(intervals[i][end],newinterval[end])\n",
    "        i+=1\n",
    "    merged.append(newinterval)\n",
    "    while i < len(intervals):\n",
    "        merged.append(intervals[i])\n",
    "        i+=1\n",
    "    return merged"
   ]
  },
  {
   "cell_type": "code",
   "execution_count": 4,
   "metadata": {},
   "outputs": [
    {
     "data": {
      "text/plain": [
       "[[1, 3], [4, 7], [8, 12]]"
      ]
     },
     "execution_count": 4,
     "metadata": {},
     "output_type": "execute_result"
    }
   ],
   "source": [
    "insert([[1,3], [5,7], [8,12]],[4,6])\n",
    "#Time Complexity O(N) and Space Complexity O(N)"
   ]
  },
  {
   "cell_type": "code",
   "execution_count": 5,
   "metadata": {},
   "outputs": [],
   "source": [
    "#Intervals Intersection\n",
    "def intersection(a,b):\n",
    "    res = []\n",
    "    i,j,start,end = 0,0,0,1\n",
    "    while i < len(a) and j < len(b):\n",
    "        aoverlap = a[i][start] >= b[j][start] and a[i][start] <= b[j][end]\n",
    "        boverlap = b[j][start] >= a[i][start] and b[j][start] <= a[i][end]\n",
    "        if aoverlap or boverlap:\n",
    "            res.append([max(a[i][start],b[j][start]),min(a[i][end],b[j][end])])\n",
    "        if a[i][end] < b[j][end]:\n",
    "            i += 1\n",
    "        else:\n",
    "            j += 1\n",
    "    return res"
   ]
  },
  {
   "cell_type": "code",
   "execution_count": 6,
   "metadata": {},
   "outputs": [
    {
     "data": {
      "text/plain": [
       "[[2, 3], [5, 6], [7, 7]]"
      ]
     },
     "execution_count": 6,
     "metadata": {},
     "output_type": "execute_result"
    }
   ],
   "source": [
    "intersection([[1, 3], [5, 6], [7, 9]],[[2, 3], [5, 7]])\n",
    "#Time Complexity O(N+M) and Space Complexity O(N)"
   ]
  },
  {
   "cell_type": "code",
   "execution_count": 7,
   "metadata": {},
   "outputs": [],
   "source": [
    "#Conflicting Appointments\n",
    "def appointments(arr):\n",
    "    arr.sort(key=lambda x: x[0])\n",
    "    print(arr)\n",
    "    for i in range(1,len(arr)):\n",
    "        if arr[i][0] < arr[i-1][1]:\n",
    "            return False\n",
    "    return True"
   ]
  },
  {
   "cell_type": "code",
   "execution_count": 8,
   "metadata": {},
   "outputs": [
    {
     "name": "stdout",
     "output_type": "stream",
     "text": [
      "[[2, 4], [6, 7], [8, 12]]\n"
     ]
    },
    {
     "data": {
      "text/plain": [
       "True"
      ]
     },
     "execution_count": 8,
     "metadata": {},
     "output_type": "execute_result"
    }
   ],
   "source": [
    "appointments([[6,7],[2,4],[8,12]])\n",
    "#Time Complexity O(Nlogn) and Space Complexity O(1)"
   ]
  },
  {
   "cell_type": "code",
   "execution_count": 9,
   "metadata": {},
   "outputs": [],
   "source": [
    "#Minimum Meeting Rooms\n",
    "from heapq import *\n",
    "def meeting(arr):\n",
    "    arr.sort(key=lambda x:x[0])\n",
    "    rooms = 0\n",
    "    minheap = []\n",
    "    for meet in arr:\n",
    "        while len(minheap) > 0 and meet[0] >= minheap[0][1]:\n",
    "            heappop(minheap)\n",
    "        heappush(minheap,meet)\n",
    "        rooms = max(rooms,len(minheap))\n",
    "    return rooms"
   ]
  },
  {
   "cell_type": "code",
   "execution_count": 10,
   "metadata": {},
   "outputs": [
    {
     "data": {
      "text/plain": [
       "2"
      ]
     },
     "execution_count": 10,
     "metadata": {},
     "output_type": "execute_result"
    }
   ],
   "source": [
    "meeting([[4,5], [2,3], [2,4], [3,5]])\n",
    "#Time Complexity O(Nlogn) and Space Complexity O(N)"
   ]
  },
  {
   "cell_type": "code",
   "execution_count": 11,
   "metadata": {},
   "outputs": [],
   "source": [
    "#Maximum CPU Load\n",
    "from heapq import *\n",
    "def cpu(loads):\n",
    "    loads.sort(key=lambda x:x[0])\n",
    "    maxload = 0\n",
    "    currentload = 0\n",
    "    minheap = []\n",
    "    for load in loads:\n",
    "        while len(minheap) > 0 and load[0] >= minheap[0][1]:\n",
    "            currentload -= minheap[0][2]\n",
    "            heappop(minheap)\n",
    "        heappush(minheap,load)\n",
    "        currentload += load[2]\n",
    "        maxload = max(maxload,currentload)\n",
    "    return maxload"
   ]
  },
  {
   "cell_type": "code",
   "execution_count": 12,
   "metadata": {},
   "outputs": [
    {
     "data": {
      "text/plain": [
       "7"
      ]
     },
     "execution_count": 12,
     "metadata": {},
     "output_type": "execute_result"
    }
   ],
   "source": [
    "cpu([[1,4,3], [2,5,4], [7,9,6]])\n",
    "#Time Complexity O(Nlogn) and Space Complexity O(N)"
   ]
  }
 ],
 "metadata": {
  "kernelspec": {
   "display_name": "Python 3",
   "language": "python",
   "name": "python3"
  },
  "language_info": {
   "codemirror_mode": {
    "name": "ipython",
    "version": 3
   },
   "file_extension": ".py",
   "mimetype": "text/x-python",
   "name": "python",
   "nbconvert_exporter": "python",
   "pygments_lexer": "ipython3",
   "version": "3.7.6"
  }
 },
 "nbformat": 4,
 "nbformat_minor": 4
}
