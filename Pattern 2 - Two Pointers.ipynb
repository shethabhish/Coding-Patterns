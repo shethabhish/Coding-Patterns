{
 "cells": [
  {
   "cell_type": "code",
   "execution_count": 1,
   "metadata": {},
   "outputs": [],
   "source": [
    "#Pair with Target Sum\n",
    "def pair(arr,target):\n",
    "    left,right = 0, len(arr)-1\n",
    "    while left < right:\n",
    "        currentsum = arr[left] + arr[right]\n",
    "        if currentsum == target:\n",
    "            return [left,right]\n",
    "        elif currentsum > target:\n",
    "            right -= 1\n",
    "        else:\n",
    "            left += 1\n",
    "    return [-1,-1]"
   ]
  },
  {
   "cell_type": "code",
   "execution_count": 2,
   "metadata": {},
   "outputs": [
    {
     "data": {
      "text/plain": [
       "[1, 3]"
      ]
     },
     "execution_count": 2,
     "metadata": {},
     "output_type": "execute_result"
    }
   ],
   "source": [
    "pair([1,2,3,4,6],6)\n",
    "#Time Complexity O(N) and Space Complexity O(1)"
   ]
  },
  {
   "cell_type": "code",
   "execution_count": 3,
   "metadata": {},
   "outputs": [],
   "source": [
    "#Remove Duplicates\n",
    "def duplicates(arr):\n",
    "    nextnonduplicate = 1\n",
    "    i = 1\n",
    "    while i<len(arr):\n",
    "        if arr[nextnonduplicate-1] != arr[i]:\n",
    "            arr[nextnonduplicate] = arr[i]\n",
    "            nextnonduplicate += 1\n",
    "        i += 1\n",
    "    return nextnonduplicate"
   ]
  },
  {
   "cell_type": "code",
   "execution_count": 4,
   "metadata": {},
   "outputs": [
    {
     "data": {
      "text/plain": [
       "4"
      ]
     },
     "execution_count": 4,
     "metadata": {},
     "output_type": "execute_result"
    }
   ],
   "source": [
    "duplicates([2,3,3,3,6,9,9])\n",
    "#Time Complexity O(N) and Space Complexity O(1)"
   ]
  },
  {
   "cell_type": "code",
   "execution_count": 5,
   "metadata": {},
   "outputs": [],
   "source": [
    "#Squaring a Sorted Array\n",
    "def make_squares(arr):\n",
    "    left = 0\n",
    "    right = len(arr)-1\n",
    "    highestno = len(arr)-1\n",
    "    res = [0 for x in range(len(arr))]\n",
    "    while left<right:\n",
    "        leftsquare = arr[left]*arr[left]\n",
    "        rightsquare = arr[right]*arr[right]\n",
    "        if leftsquare > rightsquare:\n",
    "            res[highestno] = leftsquare\n",
    "            left += 1\n",
    "        else:\n",
    "            res[highestno] = rightsquare\n",
    "            right -= 1\n",
    "        highestno -= 1\n",
    "    return res"
   ]
  },
  {
   "cell_type": "code",
   "execution_count": 6,
   "metadata": {},
   "outputs": [
    {
     "data": {
      "text/plain": [
       "[0, 1, 4, 4, 9]"
      ]
     },
     "execution_count": 6,
     "metadata": {},
     "output_type": "execute_result"
    }
   ],
   "source": [
    "make_squares([-2,-1,0,2,3])\n",
    "#Time Complexity O(N) and Space Complexity O(N)"
   ]
  },
  {
   "cell_type": "code",
   "execution_count": 7,
   "metadata": {},
   "outputs": [],
   "source": [
    "#Triplet Sum to Zero\n",
    "def searchtriplets(arr):\n",
    "    arr.sort()\n",
    "    triplets = []\n",
    "    for i in range(len(arr)-2):\n",
    "        if i> 0 and arr[i] == arr[i-1]:\n",
    "            continue\n",
    "        left = i+1\n",
    "        right = len(arr)-1\n",
    "        while left<right:\n",
    "            currentsum = arr[i] + arr[left] + arr[right]\n",
    "            if currentsum<0:\n",
    "                left+=1\n",
    "            elif currentsum >0:\n",
    "                right-=1\n",
    "            else:\n",
    "                triplets.append([arr[i],arr[left],arr[right]])\n",
    "                while left<right and arr[left] == arr[left + 1] : \n",
    "                    left += 1\n",
    "                while left<right and arr[right] == arr[right - 1]: \n",
    "                    right -= 1\n",
    "                left+=1\n",
    "                right-=1\n",
    "    return triplets"
   ]
  },
  {
   "cell_type": "code",
   "execution_count": 8,
   "metadata": {},
   "outputs": [
    {
     "data": {
      "text/plain": [
       "[[-3, 1, 2], [-2, 0, 2], [-2, 1, 1], [-1, 0, 1]]"
      ]
     },
     "execution_count": 8,
     "metadata": {},
     "output_type": "execute_result"
    }
   ],
   "source": [
    "searchtriplets([-3, 0, 1, 2, -1, 1, -2])\n",
    "#Time Complexity O(NlogN + N^2) = O(N^2) and Space Complexity O(N)"
   ]
  },
  {
   "cell_type": "code",
   "execution_count": 9,
   "metadata": {},
   "outputs": [],
   "source": [
    "#Triplet Sum close to Target\n",
    "import math\n",
    "def close(arr,target):\n",
    "    arr.sort()\n",
    "    smallestdiff = math.inf\n",
    "    for i in range(len(arr)-2):\n",
    "        left = i+1\n",
    "        right = len(arr)-1\n",
    "        \n",
    "        while left <right:\n",
    "            diff = target - arr[i] - arr[left] - arr[right]\n",
    "            if diff == 0:\n",
    "                return target - diff\n",
    "            if abs(diff) < smallestdiff or (abs(diff) == 0 and diff > smallestdiff):\n",
    "                smallestdiff = diff\n",
    "            if diff > 0:\n",
    "                left += 1\n",
    "            else:\n",
    "                right -= 1\n",
    "    return target - smallestdiff"
   ]
  },
  {
   "cell_type": "code",
   "execution_count": 10,
   "metadata": {},
   "outputs": [
    {
     "data": {
      "text/plain": [
       "1"
      ]
     },
     "execution_count": 10,
     "metadata": {},
     "output_type": "execute_result"
    }
   ],
   "source": [
    "close([-2, 0, 1, 2],2)\n",
    "#Time Complexity O(NlogN + N^2) = O(N^2) and Space Complexity O(N)"
   ]
  },
  {
   "cell_type": "code",
   "execution_count": 11,
   "metadata": {},
   "outputs": [],
   "source": [
    "#Triplets with Smaller Sum\n",
    "def triplet_less(arr,target):\n",
    "    count = 0\n",
    "    arr.sort()\n",
    "    for i in range(len(arr)-2):\n",
    "        left = i+1\n",
    "        right = len(arr)-1\n",
    "        while left < right:\n",
    "            currentsum = arr[i]+arr[left]+arr[right]\n",
    "            if currentsum >= target:\n",
    "                right -= 1\n",
    "#we found a triplet whose sum is less than target, and we know arr[right] > arr[left] that means we can repalce \n",
    "#arr[right] with any value between left and right and the sumwill less than target\n",
    "            else:\n",
    "                count += right-left\n",
    "                left +=1\n",
    "    return count\n",
    "#Returns number of triplets"
   ]
  },
  {
   "cell_type": "code",
   "execution_count": 12,
   "metadata": {},
   "outputs": [
    {
     "data": {
      "text/plain": [
       "4"
      ]
     },
     "execution_count": 12,
     "metadata": {},
     "output_type": "execute_result"
    }
   ],
   "source": [
    "triplet_less([-1, 4, 2, 1, 3], 5)\n",
    "#Time Complexity O(NlogN + N^2) = O(N^2) and Space Complexity O(1)"
   ]
  },
  {
   "cell_type": "code",
   "execution_count": 13,
   "metadata": {},
   "outputs": [],
   "source": [
    "#Triplets with Smaller Sum\n",
    "def triplet_less1(arr,target):\n",
    "    triplets = []\n",
    "    arr.sort()\n",
    "    for i in range(len(arr)-2):\n",
    "        left = i+1\n",
    "        right = len(arr)-1\n",
    "        while left < right:\n",
    "            currentsum = arr[i]+arr[left]+arr[right]\n",
    "            if currentsum >= target:\n",
    "                right -= 1\n",
    "#we found a triplet whose sum is less than target, and we know arr[right] > arr[left] that means we can repalce \n",
    "#arr[right] with any value between left and right and the sumwill less than target\n",
    "            else:\n",
    "                for j in range(right,left,-1):\n",
    "                    triplets.append([arr[i],arr[left],arr[j]])\n",
    "                left +=1\n",
    "    return triplets\n",
    "#Returns the triplets"
   ]
  },
  {
   "cell_type": "code",
   "execution_count": 14,
   "metadata": {},
   "outputs": [
    {
     "data": {
      "text/plain": [
       "[[-1, 1, 4], [-1, 1, 3], [-1, 1, 2], [-1, 2, 3]]"
      ]
     },
     "execution_count": 14,
     "metadata": {},
     "output_type": "execute_result"
    }
   ],
   "source": [
    "triplet_less1([-1, 4, 2, 1, 3], 5)\n",
    "#Time Complexity O(NlogN + N^3) = O(N^3) and Space Complexity O(N)"
   ]
  },
  {
   "cell_type": "code",
   "execution_count": 15,
   "metadata": {},
   "outputs": [],
   "source": [
    "#Subarrays with Product Less than a Target \n",
    "from collections import deque\n",
    "\n",
    "def find_subarrays(arr, target):\n",
    "    res = []\n",
    "    product = 1\n",
    "    left = 0\n",
    "    for right in range(len(arr)):\n",
    "        product *= arr[right]\n",
    "        while product >= target and left <= len(arr):\n",
    "            product /= arr[left]\n",
    "            left += 1\n",
    "        \n",
    "        temp = deque()\n",
    "        for i in range(right,left-1,-1):\n",
    "            temp.appendleft(arr[i])\n",
    "            res.append(list(temp))\n",
    "    return res"
   ]
  },
  {
   "cell_type": "code",
   "execution_count": 16,
   "metadata": {},
   "outputs": [
    {
     "data": {
      "text/plain": [
       "[[2], [5], [2, 5], [3], [5, 3], [10]]"
      ]
     },
     "execution_count": 16,
     "metadata": {},
     "output_type": "execute_result"
    }
   ],
   "source": [
    "find_subarrays([2, 5, 3, 10], 30)\n",
    "#Time Complexity O(N^3) and Space Complexity O(N)"
   ]
  },
  {
   "cell_type": "code",
   "execution_count": 17,
   "metadata": {},
   "outputs": [],
   "source": [
    "#Dutch National Flag \n",
    "def dutch(arr):\n",
    "    low = 0\n",
    "    high = len(arr) - 1\n",
    "    i = 0\n",
    "    while i <= high:\n",
    "        if arr[i] == 0:\n",
    "            arr[i], arr[low] = arr[low], arr[i] #swap\n",
    "            i+=1\n",
    "            low+=1\n",
    "        elif arr[i] == 1:\n",
    "            i+=1\n",
    "        else:\n",
    "            arr[i], arr[high] = arr[high], arr[i] #swap\n",
    "            high -= 1\n",
    "    return arr"
   ]
  },
  {
   "cell_type": "code",
   "execution_count": 18,
   "metadata": {},
   "outputs": [
    {
     "data": {
      "text/plain": [
       "[0, 0, 1, 1, 2]"
      ]
     },
     "execution_count": 18,
     "metadata": {},
     "output_type": "execute_result"
    }
   ],
   "source": [
    "dutch([1,0,2,1,0])\n",
    "#Time Complexity O(N) and Space Complexity O(1)"
   ]
  },
  {
   "cell_type": "code",
   "execution_count": 19,
   "metadata": {},
   "outputs": [],
   "source": [
    "#Quadruple Sum to Target \n",
    "def quadruplets(arr,target):\n",
    "    arr.sort()\n",
    "    res = []\n",
    "    for i in range(len(arr)-3):\n",
    "        if i > 0 and arr[i-1] == arr[i]:\n",
    "            continue\n",
    "        for j in range(i+1,len(arr)-2):\n",
    "            if j > 0 and arr[j-1] == arr[j]:\n",
    "                continue\n",
    "            left = j+1\n",
    "            right = len(arr)-1\n",
    "            while left < right:\n",
    "                currentsum = arr[i]+arr[j]+arr[left]+arr[right]\n",
    "                if currentsum > target:\n",
    "                    right -= 1\n",
    "                elif currentsum < target:\n",
    "                    left += 1\n",
    "                else:\n",
    "                    res.append([arr[i],arr[j],arr[left],arr[right]])\n",
    "                    while left < right and arr[left] == arr[left+1]:\n",
    "                        left += 1\n",
    "                    while left < right and arr[right] == arr[right-1]:\n",
    "                        right -= 1\n",
    "                    left += 1\n",
    "                    right -= 1\n",
    "    return res"
   ]
  },
  {
   "cell_type": "code",
   "execution_count": 20,
   "metadata": {},
   "outputs": [
    {
     "data": {
      "text/plain": [
       "[[-2, 0, 2, 2], [-1, 0, 1, 2]]"
      ]
     },
     "execution_count": 20,
     "metadata": {},
     "output_type": "execute_result"
    }
   ],
   "source": [
    "quadruplets([2,0,-1,1,-2,2],2)\n",
    "#Time Complexity O(NlogN + N^3) = O(N^3) and Space Complexity O(N)"
   ]
  },
  {
   "cell_type": "code",
   "execution_count": 21,
   "metadata": {},
   "outputs": [],
   "source": [
    "#Comparing Strings containing Backspaces(Non Two Pointers method, can be done using stack aswell)\n",
    "def compare(s1,s2):\n",
    "    return find(s1) == find(s2)\n",
    "\n",
    "def find(s):\n",
    "    l = len(s)-1\n",
    "    st = \"\"\n",
    "    for i in range(l+1):\n",
    "        if s[i] == '#':\n",
    "            st = st[:-1]\n",
    "            continue\n",
    "        else:\n",
    "            st += s[i]\n",
    "    return st"
   ]
  },
  {
   "cell_type": "code",
   "execution_count": 22,
   "metadata": {},
   "outputs": [
    {
     "data": {
      "text/plain": [
       "True"
      ]
     },
     "execution_count": 22,
     "metadata": {},
     "output_type": "execute_result"
    }
   ],
   "source": [
    "compare(\"xywrrmp\",\"xywrrmu#p\")\n",
    "#Time complexity O(N) and Space Complexity O(N)"
   ]
  },
  {
   "cell_type": "code",
   "execution_count": 23,
   "metadata": {},
   "outputs": [],
   "source": [
    "#Comparing Strings containing Backspaces(Two Pointers Method, mainly to acheive O(1) space)\n",
    "def compare1(s1,s2):\n",
    "    index1 = len(s1) - 1\n",
    "    index2 = len(s2) - 1\n",
    "    while index1 >= 0 and index2 >= 0:\n",
    "        i1 = get(s1,index1)\n",
    "        i2 = get(s2,index2)\n",
    "        if i1<0 and i2<0:\n",
    "            return True\n",
    "        if i1<0 or i2<0:\n",
    "            return False\n",
    "        if s1[i1] != s2[i2]:\n",
    "            return False\n",
    "        index1 -= 1\n",
    "        index2 -= 2\n",
    "        \n",
    "def get(s,index):\n",
    "    backspace = 0\n",
    "    while index >= 0:\n",
    "        if s[index] == '#':\n",
    "            backspace += 1\n",
    "        elif s[index] != '#':\n",
    "            backspace -= 1\n",
    "        else:\n",
    "            break\n",
    "        index -= 1\n",
    "    return index"
   ]
  },
  {
   "cell_type": "code",
   "execution_count": 24,
   "metadata": {},
   "outputs": [
    {
     "data": {
      "text/plain": [
       "True"
      ]
     },
     "execution_count": 24,
     "metadata": {},
     "output_type": "execute_result"
    }
   ],
   "source": [
    "compare1(\"xywrrmp\",\"xywrrmu#p\")\n",
    "#Time complexity O(N) and Space Complexity O(1)"
   ]
  },
  {
   "cell_type": "code",
   "execution_count": 25,
   "metadata": {},
   "outputs": [],
   "source": [
    "#Minimum Window Sort\n",
    "def minsort(arr):\n",
    "    low,high = 0, len(arr)-1\n",
    "    while low < len(arr)-1 and arr[low] <= arr[low+1]:\n",
    "        low += 1\n",
    "    if low == len(arr)-1:\n",
    "        return 0\n",
    "    while high > 0 and arr[high] >= arr[high-1]:\n",
    "        high -= 1\n",
    "    submax = -math.inf\n",
    "    submin = math.inf\n",
    "    for k in range(low,high+1):\n",
    "        submax = max(submax,arr[k])\n",
    "        submin = min(submin,arr[k])\n",
    "    while low > 0 and arr[low-1] > submin:\n",
    "        low -= 1\n",
    "    while high < len(arr)-1 and arr[high+1] < submax:\n",
    "        high += 1\n",
    "    return high - low + 1"
   ]
  },
  {
   "cell_type": "code",
   "execution_count": 26,
   "metadata": {},
   "outputs": [
    {
     "data": {
      "text/plain": [
       "5"
      ]
     },
     "execution_count": 26,
     "metadata": {},
     "output_type": "execute_result"
    }
   ],
   "source": [
    "minsort([1, 2, 5, 3, 7, 10, 9, 12])\n",
    "#Time complexity O(N) and Space Complexity O(1)"
   ]
  }
 ],
 "metadata": {
  "kernelspec": {
   "display_name": "Python 3",
   "language": "python",
   "name": "python3"
  },
  "language_info": {
   "codemirror_mode": {
    "name": "ipython",
    "version": 3
   },
   "file_extension": ".py",
   "mimetype": "text/x-python",
   "name": "python",
   "nbconvert_exporter": "python",
   "pygments_lexer": "ipython3",
   "version": "3.7.6"
  }
 },
 "nbformat": 4,
 "nbformat_minor": 4
}
