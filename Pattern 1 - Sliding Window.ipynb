{
 "cells": [
  {
   "cell_type": "code",
   "execution_count": 1,
   "metadata": {},
   "outputs": [],
   "source": [
    "#Average of all contiguous subarrays of size ‘K’ \n",
    "\n",
    "def average(arr,k):\n",
    "    windowstart = 0\n",
    "    totalsum = 0\n",
    "    res = []\n",
    "    for windowend in range(len(arr)):\n",
    "        totalsum += arr[windowend]\n",
    "        if windowend >= k-1:\n",
    "            res.append(totalsum/k)\n",
    "            totalsum -= arr[windowstart]\n",
    "            windowstart += 1\n",
    "    return res"
   ]
  },
  {
   "cell_type": "code",
   "execution_count": 2,
   "metadata": {},
   "outputs": [
    {
     "data": {
      "text/plain": [
       "[2.2, 2.8, 2.4, 3.6, 2.8]"
      ]
     },
     "execution_count": 2,
     "metadata": {},
     "output_type": "execute_result"
    }
   ],
   "source": [
    "average([1,3,2,6,-1,4,1,8,2],5)\n",
    "#Time Complexity O(N) Space Complexity O(N)"
   ]
  },
  {
   "cell_type": "code",
   "execution_count": 3,
   "metadata": {},
   "outputs": [],
   "source": [
    "#Maximum sum in contagious subarray of size 'K'\n",
    "def maxsum(arr,k):\n",
    "    windowstart = 0\n",
    "    windowsum = 0\n",
    "    maxsum = 0\n",
    "    for windowend in range(len(arr)):\n",
    "        windowsum += arr[windowend]\n",
    "        if windowend >= k-1:\n",
    "            maxsum = max(maxsum,windowsum)\n",
    "            windowsum -= arr[windowstart]\n",
    "            windowstart += 1\n",
    "            \n",
    "    return maxsum"
   ]
  },
  {
   "cell_type": "code",
   "execution_count": 4,
   "metadata": {},
   "outputs": [
    {
     "data": {
      "text/plain": [
       "9"
      ]
     },
     "execution_count": 4,
     "metadata": {},
     "output_type": "execute_result"
    }
   ],
   "source": [
    "maxsum([2, 1, 5, 1, 3, 2],3)\n",
    "#Time Complexity O(N) Space Complexity O(1)"
   ]
  },
  {
   "cell_type": "code",
   "execution_count": 5,
   "metadata": {},
   "outputs": [],
   "source": [
    "#Smallest Subarray with sum greater than or equal to s\n",
    "import math\n",
    "def smallest_subarray(arr,s):\n",
    "    windowstart = 0\n",
    "    windowsum = 0\n",
    "    minsize = math.inf\n",
    "    for windowend in range(len(arr)):\n",
    "        windowsum += arr[windowend]\n",
    "        while windowsum >= s:\n",
    "            minsize = min(minsize,windowend-windowstart+1)\n",
    "            windowsum -= arr[windowstart]\n",
    "            windowstart += 1\n",
    "    if minsize == math.inf:\n",
    "        return 0\n",
    "    return minsize"
   ]
  },
  {
   "cell_type": "code",
   "execution_count": 6,
   "metadata": {},
   "outputs": [
    {
     "data": {
      "text/plain": [
       "2"
      ]
     },
     "execution_count": 6,
     "metadata": {},
     "output_type": "execute_result"
    }
   ],
   "source": [
    "smallest_subarray([2, 1, 5, 2, 3, 2],7)\n",
    "#Time Complexity O(N+N)=O(N) Space Complexity O(1)"
   ]
  },
  {
   "cell_type": "code",
   "execution_count": 7,
   "metadata": {},
   "outputs": [],
   "source": [
    "#Longest Substring with K Distinct Characters\n",
    "def longest(s,k):\n",
    "    windowstart = 0\n",
    "    maxlength = 0\n",
    "    charfreq = {}\n",
    "    for windowend in range(len(s)):\n",
    "        rightchar = s[windowend]\n",
    "        if rightchar not in charfreq:\n",
    "            charfreq[rightchar] = 0\n",
    "        charfreq[rightchar] += 1\n",
    "        while len(charfreq) > k:\n",
    "            leftchar = s[windowstart]\n",
    "            charfreq[leftchar] -= 1\n",
    "            if charfreq[leftchar] == 0:\n",
    "                del charfreq[leftchar]\n",
    "            windowstart += 1\n",
    "        maxlength = max(maxlength,windowend-windowstart+1)\n",
    "    return maxlength"
   ]
  },
  {
   "cell_type": "code",
   "execution_count": 8,
   "metadata": {},
   "outputs": [
    {
     "data": {
      "text/plain": [
       "4"
      ]
     },
     "execution_count": 8,
     "metadata": {},
     "output_type": "execute_result"
    }
   ],
   "source": [
    "longest(\"araaci\",2)\n",
    "#Time Complexity O(N+N)=O(N) Space Complexity O(1)"
   ]
  },
  {
   "cell_type": "code",
   "execution_count": 9,
   "metadata": {},
   "outputs": [],
   "source": [
    "#Fruits into Baskets\n",
    "def fruits_basket(fruits):\n",
    "    windowstart = 0\n",
    "    maxfruits = 0\n",
    "    fruitfreq = {}\n",
    "    for windowend in range(len(fruits)):\n",
    "        leftchar = fruits[windowend]\n",
    "        if leftchar not in fruitfreq:\n",
    "            fruitfreq[leftchar] = 0\n",
    "        fruitfreq[leftchar] += 1\n",
    "        while len(fruitfreq) > 2:\n",
    "            rightchar = fruits[windowstart]\n",
    "            fruitfreq[rightchar] -= 1\n",
    "            if fruitfreq[rightchar] == 0:\n",
    "                del fruitfreq[rightchar]\n",
    "            windowstart += 1\n",
    "        maxfruits = max(maxfruits,windowend-windowstart+1)\n",
    "    return maxfruits"
   ]
  },
  {
   "cell_type": "code",
   "execution_count": 10,
   "metadata": {},
   "outputs": [
    {
     "data": {
      "text/plain": [
       "3"
      ]
     },
     "execution_count": 10,
     "metadata": {},
     "output_type": "execute_result"
    }
   ],
   "source": [
    "fruits_basket(['A','B', 'C', 'A', 'C'])\n",
    "#Time Complexity O(N+N)=O(N) Space Complexity O(1)"
   ]
  },
  {
   "cell_type": "code",
   "execution_count": 11,
   "metadata": {},
   "outputs": [],
   "source": [
    "#No-repeat Substring\n",
    "def norepeat(s):\n",
    "    windowstart = 0\n",
    "    maxlength = 0\n",
    "    charfreq = {}\n",
    "    for windowend in range(len(s)):\n",
    "        rightchar = s[windowend]\n",
    "        if rightchar in charfreq:\n",
    "            windowstart = max(windowstart,charfreq[rightchar]+1)\n",
    "        charfreq[rightchar] = windowend\n",
    "        maxlength = max(maxlength,windowend-windowstart+1)\n",
    "    return maxlength"
   ]
  },
  {
   "cell_type": "code",
   "execution_count": 12,
   "metadata": {},
   "outputs": [
    {
     "data": {
      "text/plain": [
       "3"
      ]
     },
     "execution_count": 12,
     "metadata": {},
     "output_type": "execute_result"
    }
   ],
   "source": [
    "norepeat(\"aabccbb\")\n",
    "#Time Complexity O(N) Space Complexity O(1)"
   ]
  },
  {
   "cell_type": "code",
   "execution_count": 13,
   "metadata": {},
   "outputs": [],
   "source": [
    "#Not sliding window solution\n",
    "def norepeat(s):\n",
    "    lst = []\n",
    "    maxlength = 0\n",
    "    for i in s:\n",
    "        if i in lst:\n",
    "            lst = lst[lst.index(i)+1:]\n",
    "        lst.append(i)\n",
    "        maxlength = max(maxlength,len(lst))\n",
    "    return maxlength"
   ]
  },
  {
   "cell_type": "code",
   "execution_count": 14,
   "metadata": {},
   "outputs": [
    {
     "data": {
      "text/plain": [
       "3"
      ]
     },
     "execution_count": 14,
     "metadata": {},
     "output_type": "execute_result"
    }
   ],
   "source": [
    "norepeat(\"aabccbb\")\n",
    "#Time Complexity O(N) Space Complexity O(N)"
   ]
  },
  {
   "cell_type": "code",
   "execution_count": 15,
   "metadata": {},
   "outputs": [],
   "source": [
    "#Longest Substring with Same Letters after Replacement\n",
    "def longest_length(s,k):\n",
    "    windowstart, maxlength, maxrepeat = 0,0,0\n",
    "    charfreq = {}\n",
    "    for windowend in range(len(s)):\n",
    "        rightchar = s[windowend]\n",
    "        if rightchar not in charfreq:\n",
    "            charfreq[rightchar] = 0\n",
    "        charfreq[rightchar] += 1 \n",
    "        maxrepeat = max(maxrepeat,charfreq[rightchar])\n",
    "        if (windowend - windowstart + 1 - maxrepeat) > k:\n",
    "            leftchar = s[windowstart]\n",
    "            charfreq[leftchar] -= 1\n",
    "            windowstart += 1\n",
    "        maxlength = max(maxlength,windowend-windowstart+1)\n",
    "    return maxlength"
   ]
  },
  {
   "cell_type": "code",
   "execution_count": 16,
   "metadata": {},
   "outputs": [
    {
     "data": {
      "text/plain": [
       "5"
      ]
     },
     "execution_count": 16,
     "metadata": {},
     "output_type": "execute_result"
    }
   ],
   "source": [
    "longest_length(\"aabccbb\",2)\n",
    "#Time Complexity O(N) Space Complexity O(1)"
   ]
  },
  {
   "cell_type": "code",
   "execution_count": 17,
   "metadata": {},
   "outputs": [],
   "source": [
    "# Longest Subarray with Ones after Replacement\n",
    "def longest_ones(arr,k):\n",
    "    windowstart, maxlength, maxones = 0,0,0\n",
    "    for windowend in range(len(arr)):\n",
    "        if arr[windowend] == 1:\n",
    "            maxones += 1\n",
    "        if windowend - windowstart + 1 - maxones > k:\n",
    "            if arr[windowstart] == 1:\n",
    "                maxones -= 1\n",
    "            windowstart += 1\n",
    "        maxlength = max(maxlength, windowend-windowstart+1)\n",
    "    return maxlength"
   ]
  },
  {
   "cell_type": "code",
   "execution_count": 18,
   "metadata": {},
   "outputs": [
    {
     "data": {
      "text/plain": [
       "6"
      ]
     },
     "execution_count": 18,
     "metadata": {},
     "output_type": "execute_result"
    }
   ],
   "source": [
    "longest_ones([0, 1, 1, 0, 0, 0, 1, 1, 0, 1, 1],2)\n",
    "#Time Complexity O(N) Space Complexity O(1)"
   ]
  },
  {
   "cell_type": "code",
   "execution_count": 19,
   "metadata": {},
   "outputs": [],
   "source": [
    "#Permutation in a String\n",
    "def find_permutation(s, pattern):\n",
    "    windowstart, matched = 0,0\n",
    "    charfreq = {}\n",
    "    for i in pattern:\n",
    "        if i not in charfreq:\n",
    "            charfreq[i] = 0\n",
    "        charfreq[i] += 1\n",
    "        \n",
    "    for windowend in range(len(s)):\n",
    "        rightchar = s[windowend]\n",
    "        if rightchar in charfreq:\n",
    "            charfreq[rightchar] -= 1\n",
    "            if charfreq[rightchar] == 0:\n",
    "                matched += 1\n",
    "        if matched == len(pattern):\n",
    "            return True\n",
    "        \n",
    "        if windowend >= len(charfreq) - 1:\n",
    "            leftchar = s[windowstart]\n",
    "            windowstart += 1\n",
    "            if leftchar in charfreq:\n",
    "                if charfreq[leftchar] == 0:\n",
    "                    matched -= 1\n",
    "                charfreq[leftchar] += 1\n",
    "    return False"
   ]
  },
  {
   "cell_type": "code",
   "execution_count": 20,
   "metadata": {},
   "outputs": [
    {
     "data": {
      "text/plain": [
       "True"
      ]
     },
     "execution_count": 20,
     "metadata": {},
     "output_type": "execute_result"
    }
   ],
   "source": [
    "find_permutation('oidbcaf', 'abc')\n",
    "#Time Complexity O(N+M) Space Complexity O(M)"
   ]
  },
  {
   "cell_type": "code",
   "execution_count": 21,
   "metadata": {},
   "outputs": [],
   "source": [
    "#String Anagrams\n",
    "def find_anagram(s, pattern):\n",
    "    windowstart, matched = 0,0\n",
    "    charfreq = {}\n",
    "    res = []\n",
    "    for i in pattern:\n",
    "        if i not in charfreq:\n",
    "            charfreq[i] = 0\n",
    "        charfreq[i] += 1\n",
    "        \n",
    "    for windowend in range(len(s)):\n",
    "        rightchar = s[windowend]\n",
    "        if rightchar in charfreq:\n",
    "            charfreq[rightchar] -= 1\n",
    "            if charfreq[rightchar] == 0:\n",
    "                matched += 1\n",
    "        if matched == len(charfreq):\n",
    "            res.append(windowstart)\n",
    "        \n",
    "        if windowend >= len(pattern) - 1:\n",
    "            leftchar = s[windowstart]\n",
    "            windowstart += 1\n",
    "            if leftchar in charfreq:\n",
    "                if charfreq[leftchar] == 0:\n",
    "                    matched -= 1\n",
    "                charfreq[leftchar] += 1\n",
    "    return res"
   ]
  },
  {
   "cell_type": "code",
   "execution_count": 22,
   "metadata": {},
   "outputs": [
    {
     "data": {
      "text/plain": [
       "[1, 2]"
      ]
     },
     "execution_count": 22,
     "metadata": {},
     "output_type": "execute_result"
    }
   ],
   "source": [
    "find_anagram('ppqp', 'pq')\n",
    "#Time Complexity O(N+M) Space Complexity O(M)"
   ]
  },
  {
   "cell_type": "code",
   "execution_count": 23,
   "metadata": {},
   "outputs": [],
   "source": [
    "#Smallest Window containing Substring\n",
    "def find_substring(s,pattern):\n",
    "    windowstart, matched, substr = 0,0,0\n",
    "    minlength = len(s)+1\n",
    "    charfreq = {}\n",
    "    for i in pattern:\n",
    "        if i not in charfreq:\n",
    "            charfreq[i] = 0\n",
    "        charfreq[i] += 1\n",
    "    \n",
    "    for windowend in range(len(s)):\n",
    "        rightchar = s[windowend]\n",
    "        if rightchar in charfreq:\n",
    "            charfreq[rightchar] -= 1\n",
    "            if charfreq[rightchar] == 0:\n",
    "                matched += 1\n",
    "                \n",
    "        while matched == len(pattern):\n",
    "            if minlength > windowend - windowstart + 1:\n",
    "                minlength = windowend - windowstart + 1\n",
    "                substr = windowstart\n",
    "            \n",
    "            leftchar = s[windowstart]\n",
    "            windowstart += 1\n",
    "            if leftchar in charfreq:\n",
    "                if charfreq[leftchar] == 0:\n",
    "                    matched -= 1\n",
    "                charfreq[leftchar] += 1\n",
    "                \n",
    "    if minlength > len(s):\n",
    "            return \"\"\n",
    "    return s[substr:substr+minlength]"
   ]
  },
  {
   "cell_type": "code",
   "execution_count": 24,
   "metadata": {},
   "outputs": [
    {
     "data": {
      "text/plain": [
       "'abdec'"
      ]
     },
     "execution_count": 24,
     "metadata": {},
     "output_type": "execute_result"
    }
   ],
   "source": [
    "find_substring(\"aabdec\",\"abc\")\n",
    "#Time Complexity O(N+M) Space Complexity O(M)"
   ]
  },
  {
   "cell_type": "code",
   "execution_count": 25,
   "metadata": {},
   "outputs": [],
   "source": [
    "#Words Concatenation\n",
    "def find_words_concatenation(s,words):\n",
    "    if len(words) == 0 or len(words[0]) == 0:\n",
    "        return []\n",
    "    wordfreq = {}\n",
    "    for i in words:\n",
    "        if i not in wordfreq:\n",
    "            wordfreq[i] = 0\n",
    "        wordfreq[i] += 1   \n",
    "    \n",
    "    result = []\n",
    "    wordscount = len(words)\n",
    "    wordlength = len(words[0])\n",
    "    \n",
    "    for i in range((len(s)-wordscount*wordlength)+1):\n",
    "        words_seen = {}\n",
    "        for j in range(0,wordscount):\n",
    "            nextword = i+j*wordlength\n",
    "            word = s[nextword:nextword+wordlength]\n",
    "            if word not in wordfreq:\n",
    "                break\n",
    "            \n",
    "            if word not in words_seen:\n",
    "                words_seen[word] = 0\n",
    "            words_seen[word] += 1\n",
    "            \n",
    "            if words_seen[word] > wordfreq.get(word,0):\n",
    "                break\n",
    "            \n",
    "            if j + 1 == wordscount:\n",
    "                result.append(i)\n",
    "    return result"
   ]
  },
  {
   "cell_type": "code",
   "execution_count": 26,
   "metadata": {},
   "outputs": [
    {
     "data": {
      "text/plain": [
       "[0, 3]"
      ]
     },
     "execution_count": 26,
     "metadata": {},
     "output_type": "execute_result"
    }
   ],
   "source": [
    "find_words_concatenation(\"catfoxcat\",[\"cat\",\"fox\"])\n",
    "#Time Complexity O(N+M+len) Space Complexity O(M+N)"
   ]
  }
 ],
 "metadata": {
  "kernelspec": {
   "display_name": "Python 3",
   "language": "python",
   "name": "python3"
  },
  "language_info": {
   "codemirror_mode": {
    "name": "ipython",
    "version": 3
   },
   "file_extension": ".py",
   "mimetype": "text/x-python",
   "name": "python",
   "nbconvert_exporter": "python",
   "pygments_lexer": "ipython3",
   "version": "3.7.6"
  }
 },
 "nbformat": 4,
 "nbformat_minor": 4
}
