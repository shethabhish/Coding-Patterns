{
 "cells": [
  {
   "cell_type": "code",
   "execution_count": 1,
   "metadata": {},
   "outputs": [],
   "source": [
    "#Order Agnostic Binary Search\n",
    "def binary_search(arr,key):\n",
    "    start,end = 0,len(arr)-1\n",
    "    ascending = arr[start] < arr[end]\n",
    "    while start <= end:\n",
    "        mid = start+ (end-start)//2\n",
    "        if key == arr[mid]:\n",
    "            return mid\n",
    "        if ascending:\n",
    "            if key < arr[mid]:\n",
    "                end = mid-1\n",
    "            else:\n",
    "                start = mid + 1\n",
    "        else:\n",
    "            if key < ar[mid]:\n",
    "                start = mid + 1\n",
    "            else:\n",
    "                end = mid - 1\n",
    "    return -1"
   ]
  },
  {
   "cell_type": "code",
   "execution_count": 2,
   "metadata": {},
   "outputs": [
    {
     "data": {
      "text/plain": [
       "2"
      ]
     },
     "execution_count": 2,
     "metadata": {},
     "output_type": "execute_result"
    }
   ],
   "source": [
    "binary_search([4,6,10],10)\n",
    "#Time Complexity O(logn) and Space Complexity O(1)"
   ]
  },
  {
   "cell_type": "code",
   "execution_count": 3,
   "metadata": {},
   "outputs": [],
   "source": [
    "#Ceiling of a Number\n",
    "def ceiling(arr,key):\n",
    "    start,end = 0,len(arr)-1\n",
    "    if key > arr[end]:\n",
    "        return -1\n",
    "    while start <= end:\n",
    "        mid = start + (end-start)//2\n",
    "        if key < arr[mid]:\n",
    "            end = mid-1\n",
    "        elif key > arr[mid]:\n",
    "            start = mid+1\n",
    "        else:\n",
    "            return mid\n",
    "    return start"
   ]
  },
  {
   "cell_type": "code",
   "execution_count": 4,
   "metadata": {},
   "outputs": [
    {
     "data": {
      "text/plain": [
       "4"
      ]
     },
     "execution_count": 4,
     "metadata": {},
     "output_type": "execute_result"
    }
   ],
   "source": [
    "ceiling([1,3,8,10,15],12)\n",
    "#Time Complexity O(logn) and Space Complexity O(1)"
   ]
  },
  {
   "cell_type": "code",
   "execution_count": 5,
   "metadata": {},
   "outputs": [],
   "source": [
    "#Floor of a number\n",
    "#Ceiling of a Number\n",
    "def floor(arr,key):\n",
    "    start,end = 0,len(arr)-1\n",
    "    if key < arr[0]:\n",
    "        return -1\n",
    "    while start <= end:\n",
    "        mid = start + (end-start)//2\n",
    "        if key < arr[mid]:\n",
    "            end = mid-1\n",
    "        elif key > arr[mid]:\n",
    "            start = mid+1\n",
    "        else:\n",
    "            return mid\n",
    "    return end"
   ]
  },
  {
   "cell_type": "code",
   "execution_count": 6,
   "metadata": {},
   "outputs": [
    {
     "data": {
      "text/plain": [
       "3"
      ]
     },
     "execution_count": 6,
     "metadata": {},
     "output_type": "execute_result"
    }
   ],
   "source": [
    "floor([1,3,8,10,15],12)\n",
    "#Time Complexity O(logn) and Space Complexity O(1)"
   ]
  },
  {
   "cell_type": "code",
   "execution_count": 7,
   "metadata": {},
   "outputs": [],
   "source": [
    "#Next Letter\n",
    "def next_letter(letters,key):\n",
    "    start,end = 0, len(letters)-1\n",
    "    if key < letters[start] or key > letters[end]:\n",
    "        return letters[start]\n",
    "    while start <= end:\n",
    "        mid = start + (end-start)//2\n",
    "        if key < letters[mid]:\n",
    "            end = mid - 1\n",
    "        else:\n",
    "            start = mid + 1\n",
    "    return letters[start%len(letters)]"
   ]
  },
  {
   "cell_type": "code",
   "execution_count": 8,
   "metadata": {},
   "outputs": [
    {
     "data": {
      "text/plain": [
       "'c'"
      ]
     },
     "execution_count": 8,
     "metadata": {},
     "output_type": "execute_result"
    }
   ],
   "source": [
    "next_letter(['a','c','f','h'],'b')\n",
    "#Time Complexity O(logn) and Space Complexity O(1)"
   ]
  },
  {
   "cell_type": "code",
   "execution_count": 9,
   "metadata": {},
   "outputs": [],
   "source": [
    "#Numbers Range\n",
    "def find_range(arr,key):\n",
    "    result = [-1,-1]\n",
    "    result[0] = find(arr,key,False)\n",
    "    if result[0] != -1:\n",
    "        result[1] = find(arr,key,True)\n",
    "    return result\n",
    "\n",
    "def find(arr,key,findmax):\n",
    "    keyindex = -1\n",
    "    start,end = 0,len(arr)-1\n",
    "    while start <= end:\n",
    "        mid = start + (end-start)//2\n",
    "        if key < arr[mid]:\n",
    "            end = mid - 1\n",
    "        elif key > arr[mid]:\n",
    "            start = mid + 1\n",
    "        else:\n",
    "            keyindex = mid\n",
    "            if findmax:\n",
    "                start = mid + 1\n",
    "            else:\n",
    "                end = mid - 1\n",
    "    return keyindex"
   ]
  },
  {
   "cell_type": "code",
   "execution_count": 10,
   "metadata": {},
   "outputs": [
    {
     "data": {
      "text/plain": [
       "[1, 3]"
      ]
     },
     "execution_count": 10,
     "metadata": {},
     "output_type": "execute_result"
    }
   ],
   "source": [
    "find_range([4, 6, 6, 6, 9],6)\n",
    "#Time Complexity O(logn) and Space Complexity O(1)"
   ]
  },
  {
   "cell_type": "code",
   "execution_count": 11,
   "metadata": {},
   "outputs": [],
   "source": [
    "#Search in a Sorted Infinite Array\n",
    "import math\n",
    "class Array:\n",
    "    def __init__(self,arr):\n",
    "        self.arr = arr\n",
    "    def get (self,index):\n",
    "        if index >= len(self.arr):\n",
    "            return math.inf\n",
    "        return self.arr[index]\n",
    "\n",
    "def search_infinite(reader,key):\n",
    "    start,end = 0,1\n",
    "    while reader.get(end) < key:\n",
    "        newstart = end + 1\n",
    "        end += (end - start + 1)*2\n",
    "        start = newstart\n",
    "    return search(reader,key,start,end)\n",
    "\n",
    "def search(arr,key,start,end):\n",
    "    while start <= end:\n",
    "        mid = start + (end-start)//2\n",
    "        if key < reader.get(mid):\n",
    "            end = mid - 1\n",
    "        elif key > reader.get(mid):\n",
    "            start = mid + 1\n",
    "        else:\n",
    "            return mid\n",
    "    return -1"
   ]
  },
  {
   "cell_type": "code",
   "execution_count": 12,
   "metadata": {},
   "outputs": [
    {
     "data": {
      "text/plain": [
       "6"
      ]
     },
     "execution_count": 12,
     "metadata": {},
     "output_type": "execute_result"
    }
   ],
   "source": [
    "reader = Array([4, 6, 8, 10, 12, 14, 16, 18, 20, 22, 24, 26, 28, 30])\n",
    "search_infinite(reader,16)\n",
    "#Time Complexity O(logn) and Space Complexity O(1)"
   ]
  },
  {
   "cell_type": "code",
   "execution_count": 13,
   "metadata": {},
   "outputs": [],
   "source": [
    "#Minimum Difference Element\n",
    "def minimum_difference(arr,key):\n",
    "    start,end = 0,len(arr)-1\n",
    "    if key < arr[start]:\n",
    "        return arr[start]\n",
    "    if key > arr[end]:\n",
    "        return arr[end]\n",
    "    while start <= end:\n",
    "        mid = start + (end-start)//2\n",
    "        if key < arr[mid]:\n",
    "            end = mid - 1\n",
    "        elif key > arr[mid]:\n",
    "            start = mid + 1\n",
    "        else:\n",
    "            return arr[mid]\n",
    "        \n",
    "    if arr[start] - key < key - arr[end]:\n",
    "        return arr[start]\n",
    "    return arr[end]"
   ]
  },
  {
   "cell_type": "code",
   "execution_count": 14,
   "metadata": {},
   "outputs": [
    {
     "data": {
      "text/plain": [
       "6"
      ]
     },
     "execution_count": 14,
     "metadata": {},
     "output_type": "execute_result"
    }
   ],
   "source": [
    "minimum_difference([4,6,10],7)\n",
    "#Time Complexity O(logn) and Space Complexity O(1)"
   ]
  },
  {
   "cell_type": "code",
   "execution_count": 15,
   "metadata": {},
   "outputs": [],
   "source": [
    "#Bitonic Array Maximum\n",
    "def maximum(arr):\n",
    "    start,end = 0,len(arr)-1\n",
    "    while start < end:\n",
    "        mid = start + (end-start)//2\n",
    "        if arr[mid] > arr[mid+1]:\n",
    "            end = mid\n",
    "        else:\n",
    "            start = mid+1\n",
    "    return arr[start]"
   ]
  },
  {
   "cell_type": "code",
   "execution_count": 16,
   "metadata": {},
   "outputs": [
    {
     "data": {
      "text/plain": [
       "12"
      ]
     },
     "execution_count": 16,
     "metadata": {},
     "output_type": "execute_result"
    }
   ],
   "source": [
    "maximum([1,3,8,12,4,2])\n",
    "#Time Complexity O(logn) and Space Complexity O(1)"
   ]
  },
  {
   "cell_type": "code",
   "execution_count": 17,
   "metadata": {},
   "outputs": [],
   "source": [
    "#Search Bitonic Array\n",
    "def search_bitonic(arr,key):\n",
    "    maxIndex = find_max(arr)\n",
    "    keyIndex = bitonic_search(arr,key,0,maxIndex)\n",
    "    if keyIndex != -1:\n",
    "        return keyIndex\n",
    "    return bitonic_search(arr,key,maxIndex+1,len(arr)-1)\n",
    "\n",
    "def find_max(arr):\n",
    "    start,end = 0, len(arr)-1\n",
    "    while start < end:\n",
    "        mid = start + (end-start)//2\n",
    "        if arr[mid] > arr[mid+1]:\n",
    "            end = mid\n",
    "        else:\n",
    "            start = mid+1\n",
    "    return start\n",
    "\n",
    "def bitonic_search(arr,key,start,end):\n",
    "    while start <= end:\n",
    "        mid = int(start + (end-start)/2)\n",
    "        if arr[mid] == key:\n",
    "            return mid\n",
    "        \n",
    "        if arr[start] < arr[end]:\n",
    "            if key < arr[mid]:\n",
    "                end = mid - 1\n",
    "            else:\n",
    "                start = mid+1\n",
    "        else:\n",
    "            if key > arr[mid]:\n",
    "                end = mid - 1\n",
    "            else:\n",
    "                start = mid+1\n",
    "    return -1"
   ]
  },
  {
   "cell_type": "code",
   "execution_count": 18,
   "metadata": {},
   "outputs": [
    {
     "data": {
      "text/plain": [
       "3"
      ]
     },
     "execution_count": 18,
     "metadata": {},
     "output_type": "execute_result"
    }
   ],
   "source": [
    "search_bitonic([1,3,8,4,3],4)\n",
    "#Time Complexity O(logn) and Space Complexity O(1)"
   ]
  },
  {
   "cell_type": "code",
   "execution_count": 19,
   "metadata": {},
   "outputs": [],
   "source": [
    "#Search in Rotated Array\n",
    "def search_rotated(arr,key):\n",
    "    start,end = 0, len(arr)-1\n",
    "    while start <= end:\n",
    "        mid = start + (end-start)//2\n",
    "        if arr[mid] == key:\n",
    "            return mid\n",
    "        \n",
    "        if arr[start] <= arr[mid]:\n",
    "            if key >= arr[start] and key < arr[mid]:\n",
    "                end = mid - 1\n",
    "            else:\n",
    "                start = mid + 1\n",
    "        else:\n",
    "            if key > arr[mid] and key <= arr[end]:\n",
    "                start = mid + 1\n",
    "            else:\n",
    "                end = mid - 1\n",
    "    return -1"
   ]
  },
  {
   "cell_type": "code",
   "execution_count": 20,
   "metadata": {},
   "outputs": [
    {
     "data": {
      "text/plain": [
       "1"
      ]
     },
     "execution_count": 20,
     "metadata": {},
     "output_type": "execute_result"
    }
   ],
   "source": [
    "search_rotated([10, 15, 1, 3, 8],15)\n",
    "#Time Complexity O(logn) and Space Complexity O(1)"
   ]
  },
  {
   "cell_type": "code",
   "execution_count": 21,
   "metadata": {},
   "outputs": [],
   "source": [
    "#Search in Sorted and Rotated Array with Duplicates\n",
    "def search_rotated_duplicate(arr,key):\n",
    "    start,end = 0, len(arr)-1\n",
    "    while start <= end:\n",
    "        mid = start + (end-start)//2\n",
    "        if arr[mid] == key:\n",
    "            return mid\n",
    "        \n",
    "        if arr[start] == arr[mid] and arr[end] == arr[mid]:\n",
    "            start += 1\n",
    "            end -= 1\n",
    "            \n",
    "        elif arr[start] <= arr[mid]:\n",
    "            if key >= arr[start] and key < arr[mid]:\n",
    "                end = mid - 1\n",
    "            else:\n",
    "                start = mid + 1\n",
    "        else:\n",
    "            if key > arr[mid] and key <= arr[end]:\n",
    "                start = mid + 1\n",
    "            else:\n",
    "                end = mid - 1\n",
    "    return -1"
   ]
  },
  {
   "cell_type": "code",
   "execution_count": 22,
   "metadata": {},
   "outputs": [
    {
     "data": {
      "text/plain": [
       "1"
      ]
     },
     "execution_count": 22,
     "metadata": {},
     "output_type": "execute_result"
    }
   ],
   "source": [
    "search_rotated_duplicate([3,7,3,3,3],7)\n",
    "#Time Complexity O(logn) and Space Complexity O(1)"
   ]
  },
  {
   "cell_type": "code",
   "execution_count": 23,
   "metadata": {},
   "outputs": [],
   "source": [
    "#Rotation Count\n",
    "def count_rotations(arr):\n",
    "    start,end = 0,len(arr)-1\n",
    "    while start < end:\n",
    "        mid = start + (end-start)//2\n",
    "        \n",
    "        if mid < end and arr[mid] > arr[mid+1]:\n",
    "            return mid + 1\n",
    "        \n",
    "        if mid > start and arr[mid-1] > arr[mid]:\n",
    "            return mid\n",
    "        \n",
    "        if arr[start] < arr[mid]:\n",
    "            start = mid + 1\n",
    "        else:\n",
    "            end = mid - 1\n",
    "    return 0"
   ]
  },
  {
   "cell_type": "code",
   "execution_count": 24,
   "metadata": {},
   "outputs": [
    {
     "data": {
      "text/plain": [
       "2"
      ]
     },
     "execution_count": 24,
     "metadata": {},
     "output_type": "execute_result"
    }
   ],
   "source": [
    "count_rotations([10,15,1,3,8])\n",
    "#Time Complexity O(logn) and Space Complexity O(1)"
   ]
  },
  {
   "cell_type": "code",
   "execution_count": 25,
   "metadata": {},
   "outputs": [],
   "source": [
    "#Rotation Count with Duplicates\n",
    "def count_rotations_duplicates(arr):\n",
    "    start,end = 0,len(arr)-1\n",
    "    while start < end:\n",
    "        mid = start + (end-start)//2\n",
    "        \n",
    "        if mid < end and arr[mid] > arr[mid+1]:\n",
    "            return mid + 1\n",
    "        \n",
    "        if mid > start and arr[mid-1] > arr[mid]:\n",
    "            return mid\n",
    "        \n",
    "        if arr[start] == arr[mid] and arr[mid] == arr[end]:\n",
    "            if arr[start] > arr[start+1]:\n",
    "                return start+1\n",
    "            start += 1\n",
    "            if arr[end-1] > arr[end]:\n",
    "                return end\n",
    "            end -= 1\n",
    "        \n",
    "        elif arr[start] < arr[mid] or (arr[start] == arr[mid] and arr[mid] == arr[end]):\n",
    "            start = mid + 1\n",
    "        else:\n",
    "            end = mid - 1\n",
    "    return 0 "
   ]
  },
  {
   "cell_type": "code",
   "execution_count": 26,
   "metadata": {},
   "outputs": [
    {
     "data": {
      "text/plain": [
       "3"
      ]
     },
     "execution_count": 26,
     "metadata": {},
     "output_type": "execute_result"
    }
   ],
   "source": [
    "count_rotations_duplicates([3,3,7,3])\n",
    "#Time Complexity O(logn) and Space Complexity O(1)"
   ]
  }
 ],
 "metadata": {
  "kernelspec": {
   "display_name": "Python 3",
   "language": "python",
   "name": "python3"
  },
  "language_info": {
   "codemirror_mode": {
    "name": "ipython",
    "version": 3
   },
   "file_extension": ".py",
   "mimetype": "text/x-python",
   "name": "python",
   "nbconvert_exporter": "python",
   "pygments_lexer": "ipython3",
   "version": "3.7.6"
  }
 },
 "nbformat": 4,
 "nbformat_minor": 4
}
