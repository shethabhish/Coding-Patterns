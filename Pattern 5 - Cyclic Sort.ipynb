{
 "cells": [
  {
   "cell_type": "code",
   "execution_count": 1,
   "metadata": {},
   "outputs": [],
   "source": [
    "#Cyclic Sort\n",
    "def cyclic_sort(nums):\n",
    "    i = 0\n",
    "    while i < len(nums):\n",
    "        j = nums[i] - 1\n",
    "        if nums[i] != nums[j]:\n",
    "            nums[i],nums[j] = nums[j],nums[i]\n",
    "        else:\n",
    "            i+=1\n",
    "    return nums"
   ]
  },
  {
   "cell_type": "code",
   "execution_count": 2,
   "metadata": {},
   "outputs": [
    {
     "data": {
      "text/plain": [
       "[1, 2, 3, 4, 5]"
      ]
     },
     "execution_count": 2,
     "metadata": {},
     "output_type": "execute_result"
    }
   ],
   "source": [
    "cyclic_sort([3, 1, 5, 4, 2])\n",
    "#Time Complexity O(N) and Space Complexity O(1)"
   ]
  },
  {
   "cell_type": "code",
   "execution_count": 3,
   "metadata": {},
   "outputs": [],
   "source": [
    "#Find the Missing Number\n",
    "def missing(nums):\n",
    "    i = 0\n",
    "    while i < len(nums):\n",
    "        j = nums[i]\n",
    "        if nums[i] < len(nums) and nums[i] != nums[j]:\n",
    "            nums[i],nums[j] = nums[j],nums[i]\n",
    "        else:\n",
    "            i+=1\n",
    "    for i in range(len(nums)):\n",
    "        if i != nums[i]:\n",
    "            return i"
   ]
  },
  {
   "cell_type": "code",
   "execution_count": 4,
   "metadata": {},
   "outputs": [
    {
     "data": {
      "text/plain": [
       "7"
      ]
     },
     "execution_count": 4,
     "metadata": {},
     "output_type": "execute_result"
    }
   ],
   "source": [
    "missing([8, 3, 5, 2, 4, 6, 0, 1])\n",
    "#Time Complexity O(N) and Space Complexity O(1)"
   ]
  },
  {
   "cell_type": "code",
   "execution_count": 5,
   "metadata": {},
   "outputs": [],
   "source": [
    "#Find the Missing Numbers\n",
    "def missing_nums(nums):\n",
    "    i = 0\n",
    "    missing = []\n",
    "    while i < len(nums):\n",
    "        j = nums[i]-1\n",
    "        if nums[i] != nums[j]:\n",
    "            nums[i],nums[j] = nums[j],nums[i]\n",
    "        else:\n",
    "            i+=1\n",
    "    for i in range(len(nums)):\n",
    "        if i != nums[i] - 1:\n",
    "            missing.append(i+1)\n",
    "    return missing"
   ]
  },
  {
   "cell_type": "code",
   "execution_count": 6,
   "metadata": {},
   "outputs": [
    {
     "data": {
      "text/plain": [
       "[4, 6, 7]"
      ]
     },
     "execution_count": 6,
     "metadata": {},
     "output_type": "execute_result"
    }
   ],
   "source": [
    "missing_nums([2, 3, 1, 8, 2, 3, 5, 1])\n",
    "#Time Complexity O(N) and Space Complexity O(N)"
   ]
  },
  {
   "cell_type": "code",
   "execution_count": 7,
   "metadata": {},
   "outputs": [],
   "source": [
    "#Find the Duplicate Number\n",
    "def duplicate(nums):\n",
    "    i = 0\n",
    "    while i < len(nums):\n",
    "        j = nums[i] - 1\n",
    "        if nums[i] != nums[j]:\n",
    "            nums[i],nums[j] = nums[j],nums[i]\n",
    "        else:\n",
    "            i += 1\n",
    "    for i in range(len(nums)):\n",
    "        if i != nums[i] - 1:\n",
    "            return nums[i]"
   ]
  },
  {
   "cell_type": "code",
   "execution_count": 8,
   "metadata": {},
   "outputs": [
    {
     "data": {
      "text/plain": [
       "4"
      ]
     },
     "execution_count": 8,
     "metadata": {},
     "output_type": "execute_result"
    }
   ],
   "source": [
    "duplicate([1, 4, 4, 3, 2])\n",
    "#Time Complexity O(N) and Space Complexity O(1)"
   ]
  },
  {
   "cell_type": "code",
   "execution_count": 9,
   "metadata": {},
   "outputs": [],
   "source": [
    "#Find the Duplicate Numbers\n",
    "def duplicate_nums(nums):\n",
    "    i = 0\n",
    "    dup = []\n",
    "    while i < len(nums):\n",
    "        j = nums[i] - 1\n",
    "        if nums[i] != nums[j]:\n",
    "            nums[i],nums[j] = nums[j],nums[i]\n",
    "        else:\n",
    "            i += 1\n",
    "    for i in range(len(nums)):\n",
    "        if i != nums[i] - 1:\n",
    "            dup.append(nums[i])\n",
    "    return dup"
   ]
  },
  {
   "cell_type": "code",
   "execution_count": 10,
   "metadata": {},
   "outputs": [
    {
     "data": {
      "text/plain": [
       "[3, 5]"
      ]
     },
     "execution_count": 10,
     "metadata": {},
     "output_type": "execute_result"
    }
   ],
   "source": [
    "duplicate_nums([5, 4, 7, 2, 3, 5, 3])\n",
    "#Time Complexity O(N) and Space Complexity O(N)"
   ]
  },
  {
   "cell_type": "code",
   "execution_count": 11,
   "metadata": {},
   "outputs": [],
   "source": [
    "#Find the corrupt Pair\n",
    "def corrupt(nums):\n",
    "    i = 0\n",
    "    while i < len(nums):\n",
    "        j = nums[i] - 1\n",
    "        if nums[i] != nums[j]:\n",
    "            nums[i],nums[j] = nums[j],nums[i]\n",
    "        else:\n",
    "            i += 1\n",
    "    for i in range(len(nums)):\n",
    "        if i != nums[i]-1:\n",
    "            return [nums[i],i+1]"
   ]
  },
  {
   "cell_type": "code",
   "execution_count": 12,
   "metadata": {},
   "outputs": [
    {
     "data": {
      "text/plain": [
       "[3, 5]"
      ]
     },
     "execution_count": 12,
     "metadata": {},
     "output_type": "execute_result"
    }
   ],
   "source": [
    "corrupt([3, 1, 2, 3, 6, 4])\n",
    "#Time Complexity O(N) and Space Complexity O(1)"
   ]
  },
  {
   "cell_type": "code",
   "execution_count": 13,
   "metadata": {},
   "outputs": [],
   "source": [
    "#Find the Smallest Positive Number\n",
    "def smallest(nums):\n",
    "    i = 0\n",
    "    while i < len(nums):\n",
    "        j = nums[i] - 1\n",
    "        if nums[i] > 0 and nums[i] <= len(nums) and nums[i] != nums[j]:\n",
    "            nums[i],nums[j] = nums[j],nums[i]\n",
    "        else:\n",
    "            i += 1\n",
    "    for i in range(len(nums)):\n",
    "        if i != nums[i] - 1:\n",
    "            return i+1\n",
    "    return len(nums)+1"
   ]
  },
  {
   "cell_type": "code",
   "execution_count": 14,
   "metadata": {},
   "outputs": [
    {
     "data": {
      "text/plain": [
       "4"
      ]
     },
     "execution_count": 14,
     "metadata": {},
     "output_type": "execute_result"
    }
   ],
   "source": [
    "smallest([3, -2, 0, 1, 2])\n",
    "#Time Complexity O(N) and Space Complexity O(1)"
   ]
  },
  {
   "cell_type": "code",
   "execution_count": 15,
   "metadata": {},
   "outputs": [],
   "source": [
    "#Find the First K Missing Positive Numbers\n",
    "def find(nums,k):\n",
    "    i = 0\n",
    "    while i < len(nums):\n",
    "        j = nums[i] - 1\n",
    "        if nums[i] > 0 and nums[i] <= len(nums) and nums[i] != nums[j]:\n",
    "            nums[i],nums[j] = nums[j],nums[i]\n",
    "        else:\n",
    "            i+=1\n",
    "    missing = []\n",
    "    extra = set()\n",
    "    for i in range(len(nums)):\n",
    "        if len(missing) < k:\n",
    "            if i != nums[i] - 1:\n",
    "                missing.append(i+1)\n",
    "                extra.add(nums[i])\n",
    "    i = 1\n",
    "    while len(missing) < k:\n",
    "        num = i+len(nums)\n",
    "        if num not in extra:\n",
    "            missing.append(num)\n",
    "        i += 1\n",
    "    return missing"
   ]
  },
  {
   "cell_type": "code",
   "execution_count": 16,
   "metadata": {},
   "outputs": [
    {
     "data": {
      "text/plain": [
       "[1, 2, 6]"
      ]
     },
     "execution_count": 16,
     "metadata": {},
     "output_type": "execute_result"
    }
   ],
   "source": [
    "find([3,-1,4,5,5],3)\n",
    "#Time Complexity O(N+K) and Space Complexity O(K)"
   ]
  },
  {
   "cell_type": "code",
   "execution_count": null,
   "metadata": {},
   "outputs": [],
   "source": []
  }
 ],
 "metadata": {
  "kernelspec": {
   "display_name": "Python 3",
   "language": "python",
   "name": "python3"
  },
  "language_info": {
   "codemirror_mode": {
    "name": "ipython",
    "version": 3
   },
   "file_extension": ".py",
   "mimetype": "text/x-python",
   "name": "python",
   "nbconvert_exporter": "python",
   "pygments_lexer": "ipython3",
   "version": "3.7.6"
  }
 },
 "nbformat": 4,
 "nbformat_minor": 4
}
