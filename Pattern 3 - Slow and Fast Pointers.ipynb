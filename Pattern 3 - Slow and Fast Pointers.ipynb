{
 "cells": [
  {
   "cell_type": "code",
   "execution_count": 1,
   "metadata": {},
   "outputs": [],
   "source": [
    "class Node:\n",
    "    def __init__(self,value,next=None):\n",
    "        self.value = value\n",
    "        self.next = next\n",
    "    def print_list(self):\n",
    "        temp = self\n",
    "        while temp is not None:\n",
    "            print(str(temp.value)+ \" \", end ='')\n",
    "            temp = temp.next\n",
    "        print()"
   ]
  },
  {
   "cell_type": "code",
   "execution_count": 2,
   "metadata": {},
   "outputs": [],
   "source": [
    "#Linked List Cycle\n",
    "def hascycle(head):\n",
    "    slow,fast = head, head\n",
    "    while fast and fast.next:\n",
    "        fast = fast.next.next\n",
    "        slow = slow.next\n",
    "        if slow == fast:\n",
    "            return True\n",
    "    return False"
   ]
  },
  {
   "cell_type": "code",
   "execution_count": 3,
   "metadata": {},
   "outputs": [
    {
     "data": {
      "text/plain": [
       "False"
      ]
     },
     "execution_count": 3,
     "metadata": {},
     "output_type": "execute_result"
    }
   ],
   "source": [
    "head = Node(1)\n",
    "head.next = Node(2)\n",
    "head.next.next = Node(3)\n",
    "head.next.next.next = Node(4)\n",
    "head.next.next.next.next = Node(5)\n",
    "hascycle(head)"
   ]
  },
  {
   "cell_type": "code",
   "execution_count": 4,
   "metadata": {},
   "outputs": [
    {
     "data": {
      "text/plain": [
       "True"
      ]
     },
     "execution_count": 4,
     "metadata": {},
     "output_type": "execute_result"
    }
   ],
   "source": [
    "head = Node(1)\n",
    "head.next = Node(2)\n",
    "head.next.next = Node(3)\n",
    "head.next.next.next = Node(4)\n",
    "head.next.next.next.next = Node(5)\n",
    "head.next.next.next.next.next = Node(6)\n",
    "head.next.next.next.next.next.next = head.next.next\n",
    "\n",
    "hascycle(head)\n",
    "#Time Complexity O(N) and Space Complexity O(1)"
   ]
  },
  {
   "cell_type": "code",
   "execution_count": 5,
   "metadata": {},
   "outputs": [],
   "source": [
    "#Linked List Cycle length\n",
    "def cyclelength(head):\n",
    "    slow,fast = head, head\n",
    "    while fast and fast.next:\n",
    "        fast = fast.next.next\n",
    "        slow = slow.next\n",
    "        if slow == fast:\n",
    "            return length(slow)\n",
    "    return 0"
   ]
  },
  {
   "cell_type": "code",
   "execution_count": 6,
   "metadata": {},
   "outputs": [],
   "source": [
    "def length(slow):\n",
    "    current = slow\n",
    "    leng = 0\n",
    "    while True:\n",
    "        leng += 1\n",
    "        current = current.next\n",
    "        if current == slow:\n",
    "            break\n",
    "    return leng"
   ]
  },
  {
   "cell_type": "code",
   "execution_count": 7,
   "metadata": {},
   "outputs": [
    {
     "data": {
      "text/plain": [
       "4"
      ]
     },
     "execution_count": 7,
     "metadata": {},
     "output_type": "execute_result"
    }
   ],
   "source": [
    "cyclelength(head)\n",
    "#Time Complexity O(N) and Space Complexity O(1)"
   ]
  },
  {
   "cell_type": "code",
   "execution_count": 8,
   "metadata": {},
   "outputs": [],
   "source": [
    "#Start of linked list cycle\n",
    "def find_cycle_start(head):\n",
    "    leng = 0\n",
    "    slow,fast = head, head\n",
    "    while fast and fast.next:\n",
    "        fast = fast.next.next\n",
    "        slow = slow.next\n",
    "        if slow == fast:\n",
    "            leng = length(slow)\n",
    "            break\n",
    "    return start(head,leng)"
   ]
  },
  {
   "cell_type": "code",
   "execution_count": 9,
   "metadata": {},
   "outputs": [],
   "source": [
    "def start(head, leng):\n",
    "    pointer1 = head\n",
    "    pointer2 = head\n",
    "    while leng > 0:\n",
    "        pointer2 = pointer2.next\n",
    "        leng -= 1\n",
    "    while pointer1 != pointer2:\n",
    "        pointer1 = pointer1.next\n",
    "        pointer2 = pointer2.next\n",
    "    return pointer1.value"
   ]
  },
  {
   "cell_type": "code",
   "execution_count": 10,
   "metadata": {},
   "outputs": [
    {
     "data": {
      "text/plain": [
       "3"
      ]
     },
     "execution_count": 10,
     "metadata": {},
     "output_type": "execute_result"
    }
   ],
   "source": [
    "find_cycle_start(head)\n",
    "#Time Complexity O(N) and Space Complexity O(1)"
   ]
  },
  {
   "cell_type": "code",
   "execution_count": 11,
   "metadata": {},
   "outputs": [],
   "source": [
    "#Happy Number\n",
    "def happy_num(num):\n",
    "    slow,fast = num,num\n",
    "    while True:\n",
    "        slow = findsq(slow)\n",
    "        fast = findsq(findsq(fast))\n",
    "        if slow == fast:\n",
    "            break\n",
    "    return slow == 1"
   ]
  },
  {
   "cell_type": "code",
   "execution_count": 12,
   "metadata": {},
   "outputs": [],
   "source": [
    "def findsq(num):\n",
    "    total = 0\n",
    "    while (num > 0):\n",
    "        digit = num % 10\n",
    "        total += digit*digit\n",
    "        num //= 10\n",
    "    return total"
   ]
  },
  {
   "cell_type": "code",
   "execution_count": 13,
   "metadata": {},
   "outputs": [
    {
     "data": {
      "text/plain": [
       "True"
      ]
     },
     "execution_count": 13,
     "metadata": {},
     "output_type": "execute_result"
    }
   ],
   "source": [
    "happy_num(23)\n",
    "#Time Complexity O(logn) and Space Complexity O(1)"
   ]
  },
  {
   "cell_type": "code",
   "execution_count": 14,
   "metadata": {},
   "outputs": [
    {
     "data": {
      "text/plain": [
       "False"
      ]
     },
     "execution_count": 14,
     "metadata": {},
     "output_type": "execute_result"
    }
   ],
   "source": [
    "happy_num(12)"
   ]
  },
  {
   "cell_type": "code",
   "execution_count": 15,
   "metadata": {},
   "outputs": [],
   "source": [
    "#Middle of Linked List\n",
    "def middle(head):\n",
    "    slow, fast = head, head\n",
    "    while fast and fast.next:\n",
    "        slow = slow.next\n",
    "        fast = fast.next.next\n",
    "    return slow.value"
   ]
  },
  {
   "cell_type": "code",
   "execution_count": 16,
   "metadata": {},
   "outputs": [
    {
     "data": {
      "text/plain": [
       "3"
      ]
     },
     "execution_count": 16,
     "metadata": {},
     "output_type": "execute_result"
    }
   ],
   "source": [
    "head = Node(1)\n",
    "head.next = Node(2)\n",
    "head.next.next = Node(3)\n",
    "head.next.next.next = Node(4)\n",
    "head.next.next.next.next = Node(5)\n",
    "middle(head)\n",
    "#Time Complexity O(N) and Space Complexity O(1)"
   ]
  },
  {
   "cell_type": "code",
   "execution_count": 17,
   "metadata": {},
   "outputs": [],
   "source": [
    "#Palindrom Linked List\n",
    "def palindrome(head):\n",
    "    if head is None or head.next is None:\n",
    "        return True\n",
    "    slow, fast = head, head\n",
    "    while fast and fast.next:\n",
    "        slow = slow.next\n",
    "        fast = fast.next.next\n",
    "    secondhalf = reverse(slow)\n",
    "    copysecondhalf = secondhalf\n",
    "    \n",
    "    while head and secondhalf:\n",
    "        if head.value != secondhalf.value:\n",
    "            break\n",
    "        head = head.next\n",
    "        secondhalf = secondhalf.next\n",
    "    reverse(copysecondhalf)\n",
    "    \n",
    "    if head is None or secondhalf is None:\n",
    "        return True\n",
    "    return False"
   ]
  },
  {
   "cell_type": "code",
   "execution_count": 18,
   "metadata": {},
   "outputs": [],
   "source": [
    "def reverse(head):\n",
    "    prev = None\n",
    "    while head:\n",
    "        next = head.next\n",
    "        head.next = prev\n",
    "        prev = head\n",
    "        head = next\n",
    "    return prev"
   ]
  },
  {
   "cell_type": "code",
   "execution_count": 19,
   "metadata": {},
   "outputs": [
    {
     "data": {
      "text/plain": [
       "True"
      ]
     },
     "execution_count": 19,
     "metadata": {},
     "output_type": "execute_result"
    }
   ],
   "source": [
    "head1 = Node(2)\n",
    "head1.next = Node(4)\n",
    "head1.next.next = Node(6)\n",
    "head1.next.next.next = Node(4)\n",
    "head1.next.next.next.next = Node(2)\n",
    "palindrome(head1)\n",
    "#Time Complexity O(N) and Space Complexity O(1)"
   ]
  },
  {
   "cell_type": "code",
   "execution_count": 20,
   "metadata": {},
   "outputs": [],
   "source": [
    "def rearrange(head):\n",
    "    slow,fast = head, head\n",
    "    while fast and fast.next:\n",
    "        slow = slow.next\n",
    "        fast = fast.next.next\n",
    "    secondhalf = reverse(slow)\n",
    "    firsthalf = head\n",
    "    \n",
    "    while firsthalf and secondhalf:\n",
    "        temp = firsthalf.next\n",
    "        firsthalf.next = secondhalf\n",
    "        firsthalf = temp\n",
    "        \n",
    "        temp = secondhalf.next\n",
    "        secondhalf.next = firsthalf\n",
    "        secondhalf = temp\n",
    "    \n",
    "    if firsthalf:\n",
    "        firsthalf.next = None"
   ]
  },
  {
   "cell_type": "code",
   "execution_count": 21,
   "metadata": {},
   "outputs": [
    {
     "name": "stdout",
     "output_type": "stream",
     "text": [
      "2 12 4 10 6 8 \n"
     ]
    }
   ],
   "source": [
    "head = Node(2)\n",
    "head.next = Node(4)\n",
    "head.next.next = Node(6)\n",
    "head.next.next.next = Node(8)\n",
    "head.next.next.next.next = Node(10)\n",
    "head.next.next.next.next.next = Node(12)\n",
    "rearrange(head)\n",
    "head.print_list()\n",
    "#Time Complexity O(N) and Space Complexity O(1)"
   ]
  },
  {
   "cell_type": "code",
   "execution_count": 22,
   "metadata": {},
   "outputs": [],
   "source": [
    "def cycle_cirular_array(arr):\n",
    "    for i in range(len(arr)):\n",
    "        is_forward = arr[i] >= 0\n",
    "        slow,fast = i,i\n",
    "        \n",
    "        while True:\n",
    "            slow = find_next_index(arr,is_forward,slow)\n",
    "            fast = find_next_index(arr,is_forward,fast)\n",
    "            if fast != -1:\n",
    "                fast = find_next_index(arr,is_forward,fast)\n",
    "            if slow == -1 or fast == -1 or slow == fast:\n",
    "                break\n",
    "        if slow != -1 and slow == fast:\n",
    "            return True\n",
    "    return False"
   ]
  },
  {
   "cell_type": "code",
   "execution_count": 23,
   "metadata": {},
   "outputs": [],
   "source": [
    "def find_next_index(arr,is_forward,currentindex):\n",
    "    direction = arr[currentindex] >= 0\n",
    "    if is_forward != direction:\n",
    "        return -1\n",
    "    \n",
    "    next_index = (currentindex + arr[currentindex])%len(arr)\n",
    "    \n",
    "    if currentindex == next_index:\n",
    "        next_index = -1\n",
    "        \n",
    "    return next_index"
   ]
  },
  {
   "cell_type": "code",
   "execution_count": 24,
   "metadata": {},
   "outputs": [
    {
     "data": {
      "text/plain": [
       "True"
      ]
     },
     "execution_count": 24,
     "metadata": {},
     "output_type": "execute_result"
    }
   ],
   "source": [
    "cycle_cirular_array([1,2,-1,2,2])"
   ]
  },
  {
   "cell_type": "code",
   "execution_count": 25,
   "metadata": {},
   "outputs": [
    {
     "data": {
      "text/plain": [
       "False"
      ]
     },
     "execution_count": 25,
     "metadata": {},
     "output_type": "execute_result"
    }
   ],
   "source": [
    "cycle_cirular_array([2, 1, -1, -2])",
    "#Time Complexity O(N^2) and Space Complexity O(N)"
   ]
  },
  {
   "cell_type": "code",
   "execution_count": null,
   "metadata": {},
   "outputs": [],
   "source": []
  }
 ],
 "metadata": {
  "kernelspec": {
   "display_name": "Python 3",
   "language": "python",
   "name": "python3"
  },
  "language_info": {
   "codemirror_mode": {
    "name": "ipython",
    "version": 3
   },
   "file_extension": ".py",
   "mimetype": "text/x-python",
   "name": "python",
   "nbconvert_exporter": "python",
   "pygments_lexer": "ipython3",
   "version": "3.7.6"
  }
 },
 "nbformat": 4,
 "nbformat_minor": 4
}
