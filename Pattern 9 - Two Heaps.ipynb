{
 "cells": [
  {
   "cell_type": "code",
   "execution_count": 1,
   "metadata": {},
   "outputs": [],
   "source": [
    "#Find the Median of a Number Stream \n",
    "from heapq import *\n",
    "class MedianStream:\n",
    "    maxheap = []\n",
    "    minheap = []\n",
    "    \n",
    "    def insert_num(self,num):\n",
    "        if not self.maxheap or -self.maxheap[0] >= num:\n",
    "            heappush(self.maxheap, -num)\n",
    "        else:\n",
    "            heappush(self.minheap,num)\n",
    "        \n",
    "        if len(self.maxheap) > len(self.minheap)+1:\n",
    "            heappush(self.minheap, -heappop(self.maxheap))\n",
    "        elif len(self.maxheap) < len(self.minheap):\n",
    "            heappush(self.maxheap, -heappop(self.minheap))\n",
    "    \n",
    "    def find_median(self):\n",
    "        if len(self.minheap) == len(self.maxheap):\n",
    "            return -self.maxheap[0]/2.0 + self.minheap[0]/2.0\n",
    "        else:\n",
    "            return -self.maxheap[0]/1.0"
   ]
  },
  {
   "cell_type": "code",
   "execution_count": 2,
   "metadata": {},
   "outputs": [],
   "source": [
    "val = MedianStream()"
   ]
  },
  {
   "cell_type": "code",
   "execution_count": 3,
   "metadata": {},
   "outputs": [
    {
     "data": {
      "text/plain": [
       "2.0"
      ]
     },
     "execution_count": 3,
     "metadata": {},
     "output_type": "execute_result"
    }
   ],
   "source": [
    "val.insert_num(3)\n",
    "val.insert_num(1)\n",
    "val.find_median()"
   ]
  },
  {
   "cell_type": "code",
   "execution_count": 4,
   "metadata": {},
   "outputs": [
    {
     "data": {
      "text/plain": [
       "3.0"
      ]
     },
     "execution_count": 4,
     "metadata": {},
     "output_type": "execute_result"
    }
   ],
   "source": [
    "val.insert_num(5)\n",
    "val.find_median()"
   ]
  },
  {
   "cell_type": "code",
   "execution_count": 5,
   "metadata": {},
   "outputs": [
    {
     "data": {
      "text/plain": [
       "3.5"
      ]
     },
     "execution_count": 5,
     "metadata": {},
     "output_type": "execute_result"
    }
   ],
   "source": [
    "val.insert_num(4)\n",
    "val.find_median()\n",
    "#Time Complexity O(logn) and  Space Complexity O(N)"
   ]
  },
  {
   "cell_type": "code",
   "execution_count": 6,
   "metadata": {},
   "outputs": [],
   "source": [
    "#Sliding Window Median\n",
    "from heapq import *\n",
    "class SlidingWindowMedian:\n",
    "    def __init__(self):\n",
    "        self.maxheap, self.minheap =[], []\n",
    "    \n",
    "    def find_sliding_window_median(self,nums,k):\n",
    "        result = [0.0 for x in range(len(nums)-k+1)]\n",
    "        for i in range(0,len(nums)):\n",
    "            if not self.maxheap or nums[i] <= -self.maxheap[0]:\n",
    "                heappush(self.maxheap,-nums[i])\n",
    "            else:\n",
    "                heappush(self.minheap,nums[i])\n",
    "                \n",
    "            self.rebalance()\n",
    "            \n",
    "            if i - k + 1 >= 0:\n",
    "                if len(self.maxheap) == len(self.minheap):\n",
    "                    result[i-k+1] = -self.maxheap[0]/2.0 + self.minheap[0]/2.0\n",
    "                else:\n",
    "                    result[i-k+1] = -self.maxheap[0]/1.0\n",
    "                \n",
    "                elementtoberemoved = nums[i-k+1]\n",
    "                if elementtoberemoved <= -self.maxheap[0]:\n",
    "                    self.remove(self.maxheap,-elementtoberemoved)\n",
    "                else:\n",
    "                    self.remove(self.minheap,elementtoberemoved)\n",
    "                self.rebalance()\n",
    "        return result\n",
    "    \n",
    "    def remove(self,heap,element):\n",
    "        ind = heap.index(element)\n",
    "        heap[ind] = heap[-1]\n",
    "        del heap[-1]\n",
    "        if ind < len(heap):\n",
    "            heapq._siftup(heap,ind)\n",
    "            heapq._siftdown(heap,0,ind)\n",
    "    \n",
    "    def rebalance(self):\n",
    "        if len(self.maxheap) > len(self.minheap)+1:\n",
    "            heappush(self.minheap,-heappop(self.maxheap))\n",
    "        elif len(self.maxheap) < len(self.minheap):\n",
    "            heappush(self.maxheap, -heappop(self.minheap))"
   ]
  },
  {
   "cell_type": "code",
   "execution_count": 7,
   "metadata": {},
   "outputs": [
    {
     "data": {
      "text/plain": [
       "[1.5, 0.5, 1.0, 4.0]"
      ]
     },
     "execution_count": 7,
     "metadata": {},
     "output_type": "execute_result"
    }
   ],
   "source": [
    "slide = SlidingWindowMedian()\n",
    "res = slide.find_sliding_window_median([1,2,-1,3,5],2)\n",
    "res\n",
    "#Time Complexity O(N*K) and Space Complexity O(N)"
   ]
  },
  {
   "cell_type": "code",
   "execution_count": 8,
   "metadata": {},
   "outputs": [],
   "source": [
    "#Maximize Capital\n",
    "from heapq import *\n",
    "def find_max(capital,profits,projects,initialCapital):\n",
    "    minCapitalheap = []\n",
    "    maxProfitheap = []\n",
    "    \n",
    "    for i in range(0,len(profits)):\n",
    "        heappush(minCapitalheap, (capital[i],i))\n",
    "    availableCapital = initialCapital\n",
    "    \n",
    "    for _ in range(projects):\n",
    "        while minCapitalheap and minCapitalheap[0][0] <= availableCapital:\n",
    "            capital, i = heappop(minCapitalheap)\n",
    "            heappush(maxProfitheap, (-profits[i],i))\n",
    "        if not maxProfitheap:\n",
    "            break\n",
    "        \n",
    "        availableCapital += -heappop(maxProfitheap)[0]\n",
    "    return availableCapital"
   ]
  },
  {
   "cell_type": "code",
   "execution_count": 9,
   "metadata": {},
   "outputs": [
    {
     "data": {
      "text/plain": [
       "8"
      ]
     },
     "execution_count": 9,
     "metadata": {},
     "output_type": "execute_result"
    }
   ],
   "source": [
    "find_max([0,1,2,3],[1,2,3,5],3,0)\n",
    "#Time Complexity O(NlogN+KlogN) and Space Complexity O(N)"
   ]
  },
  {
   "cell_type": "code",
   "execution_count": 10,
   "metadata": {},
   "outputs": [],
   "source": [
    "#Next Interval\n",
    "from heapq import *\n",
    "def find_next_interval(intervals):\n",
    "    n = len(intervals)\n",
    "    maxstartheap, maxendheap = [],[]\n",
    "    result = [0 for x in range(n)]\n",
    "    for endindex in range(n):\n",
    "        heappush(maxstartheap,(-intervals[endindex][0],endindex))\n",
    "        heappush(maxendheap,(-intervals[endindex][1],endindex))\n",
    "\n",
    "    for _ in range(n):\n",
    "        topend, endindex = heappop(maxendheap)\n",
    "        result[endindex] = -1\n",
    "        if -maxstartheap[0][0] >= -topend:\n",
    "            topstart, startindex = heappop(maxstartheap)\n",
    "\n",
    "            while maxstartheap and -maxstartheap[0][0] >= -topend:\n",
    "                topstart, startindex = heappop(maxstartheap)\n",
    "\n",
    "            result[endindex] = startindex\n",
    "            heappush(maxstartheap,(topstart,startindex))\n",
    "    return result"
   ]
  },
  {
   "cell_type": "code",
   "execution_count": 11,
   "metadata": {},
   "outputs": [
    {
     "data": {
      "text/plain": [
       "[1, 2, -1]"
      ]
     },
     "execution_count": 11,
     "metadata": {},
     "output_type": "execute_result"
    }
   ],
   "source": [
    "find_next_interval([[2,3],[3,4],[5,6]])\n",
    "#Time Complexity O(NlogN) and Space Complexity O(N)"
   ]
  }
 ],
 "metadata": {
  "kernelspec": {
   "display_name": "Python 3",
   "language": "python",
   "name": "python3"
  },
  "language_info": {
   "codemirror_mode": {
    "name": "ipython",
    "version": 3
   },
   "file_extension": ".py",
   "mimetype": "text/x-python",
   "name": "python",
   "nbconvert_exporter": "python",
   "pygments_lexer": "ipython3",
   "version": "3.7.6"
  }
 },
 "nbformat": 4,
 "nbformat_minor": 4
}
