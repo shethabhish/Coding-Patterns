{
 "cells": [
  {
   "cell_type": "code",
   "execution_count": 1,
   "metadata": {},
   "outputs": [],
   "source": [
    "from heapq import *\n",
    "class Node:\n",
    "    def __init__(self,val):\n",
    "        self.val = val\n",
    "        self.next = None\n",
    "    def __lt__(self,other):\n",
    "        return self.val < other.val"
   ]
  },
  {
   "cell_type": "code",
   "execution_count": 2,
   "metadata": {},
   "outputs": [],
   "source": [
    "#Merge K Sorted List\n",
    "def merge_lists(lists):\n",
    "    minheap = []\n",
    "    for root in lists:\n",
    "        if root is not None:\n",
    "            heappush(minheap, root)\n",
    "    resulthead, resulttail = None, None\n",
    "    while minheap:\n",
    "        node = heappop(minheap)\n",
    "        if resulthead is None:\n",
    "            resulthead = resulttail = node\n",
    "        else:\n",
    "            resulttail.next = node\n",
    "            resulttail = resulttail.next \n",
    "        if node.next is not None:\n",
    "            heappush(minheap, node.next)     \n",
    "    return resulthead"
   ]
  },
  {
   "cell_type": "code",
   "execution_count": 3,
   "metadata": {},
   "outputs": [],
   "source": [
    "l1 = Node(2)\n",
    "l1.next = Node(6)\n",
    "l1.next.next = Node(8)\n",
    "l2 = Node(3)\n",
    "l2.next = Node(6)\n",
    "l2.next.next = Node(7)\n",
    "l3 = Node(1)\n",
    "l3.next = Node(3)\n",
    "l3.next.next = Node(4)"
   ]
  },
  {
   "cell_type": "code",
   "execution_count": 4,
   "metadata": {},
   "outputs": [
    {
     "name": "stdout",
     "output_type": "stream",
     "text": [
      "1 2 3 3 4 6 6 7 8 "
     ]
    }
   ],
   "source": [
    "result = merge_lists([l1,l2,l3])\n",
    "while result is not None:\n",
    "    print(result.val, end=\" \")\n",
    "    result = result.next\n",
    "#Time Complexity O(N*logK) and Space Complexity O(K)"
   ]
  },
  {
   "cell_type": "code",
   "execution_count": 5,
   "metadata": {},
   "outputs": [],
   "source": [
    "#Kth Smallest Number in M Sorted Lists\n",
    "def kth_smallest(lists,k):\n",
    "    minheap = []\n",
    "    for i in range(len(lists)):\n",
    "        heappush(minheap, (lists[i][0],0,lists[i]))\n",
    "    numbercount, number = 0,0\n",
    "    while minheap:\n",
    "        number, i, list = heappop(minheap)\n",
    "        numbercount += 1\n",
    "        if numbercount == k:\n",
    "            break\n",
    "        if len(list) > i+1:\n",
    "            heappush(minheap, (list[i+1],i+1,list))\n",
    "    return number"
   ]
  },
  {
   "cell_type": "code",
   "execution_count": 6,
   "metadata": {},
   "outputs": [
    {
     "data": {
      "text/plain": [
       "4"
      ]
     },
     "execution_count": 6,
     "metadata": {},
     "output_type": "execute_result"
    }
   ],
   "source": [
    "kth_smallest([[2,6,8],[3,6,7],[1,3,4]],5)\n",
    "#Time Complexity O(K*logM) and Space Complexity O(M)"
   ]
  },
  {
   "cell_type": "code",
   "execution_count": 7,
   "metadata": {},
   "outputs": [],
   "source": [
    "#Kth Smallest Number in a Sorted Matrix\n",
    "def find_kth(matrix,k):\n",
    "    minheap = []\n",
    "    for i in range(min(k,len(matrix))):\n",
    "        heappush(minheap, (matrix[i][0],0,matrix[i]))\n",
    "    numbercount, number = 0,0\n",
    "    while minheap:\n",
    "        number,i,row = heappop(minheap)\n",
    "        numbercount += 1\n",
    "        if numbercount == k:\n",
    "            break\n",
    "        if len(row) > i+1:\n",
    "            heappush(minheap,(row[i+1],i+1,row))\n",
    "    return number"
   ]
  },
  {
   "cell_type": "code",
   "execution_count": 8,
   "metadata": {},
   "outputs": [
    {
     "data": {
      "text/plain": [
       "7"
      ]
     },
     "execution_count": 8,
     "metadata": {},
     "output_type": "execute_result"
    }
   ],
   "source": [
    "find_kth([[2,6,8],[3,7,10],[5,8,11]],5)\n",
    "#Time Complexity O(min(K,N)+K*logN) and Space Complexity O(N)"
   ]
  },
  {
   "cell_type": "code",
   "execution_count": 9,
   "metadata": {},
   "outputs": [],
   "source": [
    "#Smallest Number Range\n",
    "import math\n",
    "def smallest_range(lists):\n",
    "    minheap = []\n",
    "    rangestart, rangeend = 0, math.inf\n",
    "    currentmaxnumber = -math.inf\n",
    "    for arr in lists:\n",
    "        heappush(minheap,(arr[0],0,arr))\n",
    "        currentmaxnumber = max(currentmaxnumber,arr[0])\n",
    "    while len(minheap) == len(lists):\n",
    "        num,i,arr = heappop(minheap)\n",
    "        if rangeend - rangestart > currentmaxnumber - num:\n",
    "            rangestart = num\n",
    "            rangeend = currentmaxnumber\n",
    "        if len(arr) > i+1:\n",
    "            heappush(minheap,(arr[i+1],i+1,arr))\n",
    "            currentmaxnumber = max(currentmaxnumber,arr[i+1])\n",
    "    return [rangestart,rangeend]"
   ]
  },
  {
   "cell_type": "code",
   "execution_count": 10,
   "metadata": {},
   "outputs": [
    {
     "data": {
      "text/plain": [
       "[4, 7]"
      ]
     },
     "execution_count": 10,
     "metadata": {},
     "output_type": "execute_result"
    }
   ],
   "source": [
    "smallest_range([[1,5,8],[4,12],[7,8,10]])\n",
    "#Time Complexity O(N*logM) and Space Complexity O(M)"
   ]
  },
  {
   "cell_type": "code",
   "execution_count": 11,
   "metadata": {},
   "outputs": [],
   "source": [
    "#K Pairs with Largest Sums\n",
    "def largest_sum(nums1,nums2,k):\n",
    "    minheap = []\n",
    "    for i in range(0,min(k,len(nums1))):\n",
    "        for j in range(min(k,len(nums2))):\n",
    "            if len(minheap) < k:\n",
    "                heappush(minheap,(nums1[i]+nums2[j],i,j))\n",
    "            else:\n",
    "                if nums1[i] + nums2[j] < minheap[0][0]:\n",
    "                    break\n",
    "                else:\n",
    "                    heappop(minheap)\n",
    "                    heappush(minheap,(nums1[i]+nums2[j],i,j))\n",
    "    result = []\n",
    "    for num,i,j in minheap:\n",
    "        result.append([nums1[i],nums2[j]])\n",
    "    return result"
   ]
  },
  {
   "cell_type": "code",
   "execution_count": 12,
   "metadata": {},
   "outputs": [
    {
     "data": {
      "text/plain": [
       "[[9, 3], [9, 6], [8, 6]]"
      ]
     },
     "execution_count": 12,
     "metadata": {},
     "output_type": "execute_result"
    }
   ],
   "source": [
    "largest_sum([9,8,2],[6,3,1],3)\n",
    "#Time Complexity O(N*M*logK) and Space Complexity O(K)"
   ]
  }
 ],
 "metadata": {
  "kernelspec": {
   "display_name": "Python 3",
   "language": "python",
   "name": "python3"
  },
  "language_info": {
   "codemirror_mode": {
    "name": "ipython",
    "version": 3
   },
   "file_extension": ".py",
   "mimetype": "text/x-python",
   "name": "python",
   "nbconvert_exporter": "python",
   "pygments_lexer": "ipython3",
   "version": "3.7.6"
  }
 },
 "nbformat": 4,
 "nbformat_minor": 4
}
