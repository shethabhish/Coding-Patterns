{
 "cells": [
  {
   "cell_type": "code",
   "execution_count": 1,
   "metadata": {},
   "outputs": [],
   "source": [
    "#Top 'K' Numbers\n",
    "from heapq import *\n",
    "def topk(nums,k):\n",
    "    minheap = []\n",
    "    for i in range(k):\n",
    "        heappush(minheap,nums[i])\n",
    "    for i in range(k,len(nums)):\n",
    "        if nums[i] > minheap[0]:\n",
    "            heappop(minheap)\n",
    "            heappush(minheap,nums[i])\n",
    "    return minheap"
   ]
  },
  {
   "cell_type": "code",
   "execution_count": 2,
   "metadata": {},
   "outputs": [
    {
     "data": {
      "text/plain": [
       "[5, 12, 11]"
      ]
     },
     "execution_count": 2,
     "metadata": {},
     "output_type": "execute_result"
    }
   ],
   "source": [
    "topk([3, 1, 5, 12, 2, 11],3)\n",
    "#Time Complexity O(NlogK) and Space Complexity O(K)"
   ]
  },
  {
   "cell_type": "code",
   "execution_count": 3,
   "metadata": {},
   "outputs": [],
   "source": [
    "#Kth Smallest Number\n",
    "from heapq import *\n",
    "def ksmallest(nums,k):\n",
    "    maxheap = []\n",
    "    for i in range(k):\n",
    "        heappush(maxheap,-nums[i])\n",
    "    for i in range(k,len(nums)):\n",
    "        if -nums[i] > maxheap[0]:\n",
    "            heappop(maxheap)\n",
    "            heappush(maxheap,-nums[i])\n",
    "    return -maxheap[0]"
   ]
  },
  {
   "cell_type": "code",
   "execution_count": 4,
   "metadata": {},
   "outputs": [
    {
     "data": {
      "text/plain": [
       "5"
      ]
     },
     "execution_count": 4,
     "metadata": {},
     "output_type": "execute_result"
    }
   ],
   "source": [
    "ksmallest([1, 5, 12, 2, 11, 5],3)\n",
    "#Time Complexity O(NlogK) and Space Complexity O(K)"
   ]
  },
  {
   "cell_type": "code",
   "execution_count": 5,
   "metadata": {},
   "outputs": [],
   "source": [
    "#'K' Closest Points to the Origin\n",
    "def kclosest(points,k):\n",
    "    result = []\n",
    "    for point in points:\n",
    "        temp = point[0]**2 + point[1]**2\n",
    "        result.append(temp)\n",
    "    maxheap = []\n",
    "    for i in range(k):\n",
    "        heappush(maxheap,-result[i])\n",
    "    for i in range(k,len(result)):\n",
    "        if -result[i] > maxheap[0]:\n",
    "            heappop(maxheap)\n",
    "            heappush(maxheap,-result[i])\n",
    "    ans = []\n",
    "    for i in maxheap:\n",
    "        ans.append(points[result.index(-i)])\n",
    "    return ans"
   ]
  },
  {
   "cell_type": "code",
   "execution_count": 6,
   "metadata": {},
   "outputs": [
    {
     "data": {
      "text/plain": [
       "[[1, 3], [2, -1]]"
      ]
     },
     "execution_count": 6,
     "metadata": {},
     "output_type": "execute_result"
    }
   ],
   "source": [
    "kclosest([[1, 3], [3, 4], [2, -1]],2)\n",
    "#Time Complexity O(NlogK) and Space Complexity O(K)"
   ]
  },
  {
   "cell_type": "code",
   "execution_count": 7,
   "metadata": {},
   "outputs": [],
   "source": [
    "#Connect Ropes\n",
    "def min_cost(ropes):\n",
    "    minheap = []\n",
    "    for i in ropes:\n",
    "        heappush(minheap,i)\n",
    "    result,temp = 0,0\n",
    "    while len(minheap) > 1:\n",
    "        temp = heappop(minheap) + heappop(minheap)\n",
    "        result += temp\n",
    "        heappush(minheap,temp)\n",
    "    return result"
   ]
  },
  {
   "cell_type": "code",
   "execution_count": 8,
   "metadata": {},
   "outputs": [
    {
     "data": {
      "text/plain": [
       "33"
      ]
     },
     "execution_count": 8,
     "metadata": {},
     "output_type": "execute_result"
    }
   ],
   "source": [
    "min_cost([1,3,11,5])\n",
    "#Time Complexity O(NlogN) and Space Complexity O(N)"
   ]
  },
  {
   "cell_type": "code",
   "execution_count": 9,
   "metadata": {},
   "outputs": [],
   "source": [
    "#Top 'K' Frequent Numbers\n",
    "def k_frequent(nums,k):\n",
    "    numsfreq = {}\n",
    "    for i in nums:\n",
    "        if i not in numsfreq:\n",
    "            numsfreq[i] = 0\n",
    "        numsfreq[i] += 1\n",
    "    minheap = []\n",
    "    for num,freq in numsfreq.items():\n",
    "        heappush(minheap, (freq,num))\n",
    "        if len(minheap) > k:\n",
    "            heappop(minheap)\n",
    "    topnumbers = []\n",
    "    while minheap:\n",
    "        topnumbers.append(heappop(minheap)[1])\n",
    "    return topnumbers"
   ]
  },
  {
   "cell_type": "code",
   "execution_count": 10,
   "metadata": {},
   "outputs": [
    {
     "data": {
      "text/plain": [
       "[11, 12]"
      ]
     },
     "execution_count": 10,
     "metadata": {},
     "output_type": "execute_result"
    }
   ],
   "source": [
    "k_frequent([1, 3, 5, 12, 11, 12, 11],2)\n",
    "#Time Complexity O(N+NlogK) and Space Complexity O(N)"
   ]
  },
  {
   "cell_type": "code",
   "execution_count": 11,
   "metadata": {},
   "outputs": [],
   "source": [
    "#Frequency Sort \n",
    "def frequency(s):\n",
    "    charfreq = {}\n",
    "    for i in s:\n",
    "        if i not in charfreq:\n",
    "            charfreq[i] = 0\n",
    "        charfreq[i] += 1\n",
    "    maxheap = []\n",
    "    for char,freq in charfreq.items():\n",
    "        heappush(maxheap,(-freq,char))\n",
    "    ans = []\n",
    "    while maxheap:\n",
    "        freq,char = heappop(maxheap)\n",
    "        for _ in range(-freq):\n",
    "            ans.append(char)\n",
    "    return ''.join(ans)"
   ]
  },
  {
   "cell_type": "code",
   "execution_count": 12,
   "metadata": {},
   "outputs": [
    {
     "data": {
      "text/plain": [
       "'ggmmrrPaino'"
      ]
     },
     "execution_count": 12,
     "metadata": {},
     "output_type": "execute_result"
    }
   ],
   "source": [
    "frequency(\"Programming\")\n",
    "#Time Complexity O(NlogN) and Space Complexity O(N)"
   ]
  },
  {
   "cell_type": "code",
   "execution_count": 13,
   "metadata": {},
   "outputs": [],
   "source": [
    "#Kth Largest Number in a Stream\n",
    "class kthlargest:\n",
    "    minheap = []\n",
    "    def __init__(self,nums,k):\n",
    "        self.k = k\n",
    "        for num in nums:\n",
    "            self.add(num)\n",
    "    def add(self,num):\n",
    "        heappush(self.minheap,num)\n",
    "        if len(self.minheap) > self.k:\n",
    "            heappop(self.minheap)\n",
    "        return self.minheap[0]"
   ]
  },
  {
   "cell_type": "code",
   "execution_count": 14,
   "metadata": {},
   "outputs": [
    {
     "data": {
      "text/plain": [
       "5"
      ]
     },
     "execution_count": 14,
     "metadata": {},
     "output_type": "execute_result"
    }
   ],
   "source": [
    "largest = kthlargest([3, 1, 5, 12, 2, 11],4)\n",
    "largest.add(6)\n",
    "#Time Complexity O(logk) and Space Complexity O(K)"
   ]
  },
  {
   "cell_type": "code",
   "execution_count": 15,
   "metadata": {},
   "outputs": [],
   "source": [
    "#'K' Closest Numbers\n",
    "def closest(arr,K,X):\n",
    "    index = binary_search(arr,X)\n",
    "    low, high = index-K, index+K\n",
    "    low = max(0,low)\n",
    "    high = min(len(arr)-1,high)\n",
    "    minheap = []\n",
    "    for i in range(low,high+1):\n",
    "        heappush(minheap,(abs(arr[i]-X),arr[i]))\n",
    "    result = []\n",
    "    for _ in range(K):\n",
    "        result.append(heappop(minheap)[1])\n",
    "    result.sort()\n",
    "    return result\n",
    "\n",
    "def binary_search(arr,key):\n",
    "    start, end = 0, len(arr)-1\n",
    "    while start <= end:\n",
    "        mid = start + (end-start)//2\n",
    "        if arr[mid] == key:\n",
    "            return mid\n",
    "        elif key < arr[mid]:\n",
    "            end = mid - 1\n",
    "        else:\n",
    "            start = mid + 1\n",
    "    if start > 0:\n",
    "        return start - 1\n",
    "    return start"
   ]
  },
  {
   "cell_type": "code",
   "execution_count": 16,
   "metadata": {},
   "outputs": [
    {
     "data": {
      "text/plain": [
       "[6, 7, 8]"
      ]
     },
     "execution_count": 16,
     "metadata": {},
     "output_type": "execute_result"
    }
   ],
   "source": [
    "closest([5, 6, 7, 8, 9],3,7)\n",
    "#Time Complexity O(logN+K*logK) and Space Complexity O(K)"
   ]
  },
  {
   "cell_type": "code",
   "execution_count": 17,
   "metadata": {},
   "outputs": [],
   "source": [
    "#Maximum Distinct Elements\n",
    "def distinct(nums,k):\n",
    "    distinctelements = 0\n",
    "    if len(nums) <= k:\n",
    "        return distinctelements\n",
    "    num_freq = {}\n",
    "    for i in nums:\n",
    "        if i not in num_freq:\n",
    "            num_freq[i] = 0\n",
    "        num_freq[i] += 1\n",
    "    \n",
    "    minheap = []\n",
    "    for num,freq in num_freq.items():\n",
    "        if freq == 1:\n",
    "            distinctelements += 1\n",
    "        else:\n",
    "            heappush(minheap,(freq,num))\n",
    "            \n",
    "    while k>0 and minheap:\n",
    "        freq,num = heappop(minheap)\n",
    "        k -= freq - 1\n",
    "        if k >= 0:\n",
    "            distinctelements += 1\n",
    "            \n",
    "    if k > 0:\n",
    "        distinctelements -= k\n",
    "    return distinctelements"
   ]
  },
  {
   "cell_type": "code",
   "execution_count": 18,
   "metadata": {},
   "outputs": [
    {
     "data": {
      "text/plain": [
       "3"
      ]
     },
     "execution_count": 18,
     "metadata": {},
     "output_type": "execute_result"
    }
   ],
   "source": [
    "distinct([7, 3, 5, 8, 5, 3, 3],2)\n",
    "#Time Complexity O(NlogN+K*logN) and Space Complexity O(N)"
   ]
  },
  {
   "cell_type": "code",
   "execution_count": 19,
   "metadata": {},
   "outputs": [],
   "source": [
    "#Sum of Elements\n",
    "def sumelements(nums,k1,k2):\n",
    "    minheap = []\n",
    "    for i in nums:\n",
    "        heappush(minheap,i)\n",
    "    for _ in range(k1):\n",
    "        heappop(minheap)\n",
    "    elementsum = 0\n",
    "    for i in range(k2-k1-1):\n",
    "        elementsum += heappop(minheap)\n",
    "    return elementsum"
   ]
  },
  {
   "cell_type": "code",
   "execution_count": 20,
   "metadata": {},
   "outputs": [
    {
     "data": {
      "text/plain": [
       "23"
      ]
     },
     "execution_count": 20,
     "metadata": {},
     "output_type": "execute_result"
    }
   ],
   "source": [
    "sumelements([1, 3, 12, 5, 15, 11],3,6)\n",
    "#Time Complexity O(NlogN) and Space Complexity O(N)"
   ]
  },
  {
   "cell_type": "code",
   "execution_count": 21,
   "metadata": {},
   "outputs": [],
   "source": [
    "#Rearrange String\n",
    "def rearrange(s):\n",
    "    charfreq = {}\n",
    "    for i in s:\n",
    "        if i not in charfreq:\n",
    "            charfreq[i] = 0\n",
    "        charfreq[i] += 1\n",
    "    maxheap = []\n",
    "    for char,freq in charfreq.items():\n",
    "        heappush(maxheap,(-freq,char))\n",
    "    \n",
    "    previouschar,previousfreq = None,0\n",
    "    result = []\n",
    "    while maxheap:\n",
    "        freq,char = heappop(maxheap)\n",
    "        if previouschar and -previousfreq > 0:\n",
    "            heappush(maxheap, (previousfreq,previouschar))\n",
    "        result.append(char)\n",
    "        previouschar = char\n",
    "        previousfreq = freq+1\n",
    "    return ''.join(result) if len(result) == len(s) else \"\""
   ]
  },
  {
   "cell_type": "code",
   "execution_count": 22,
   "metadata": {},
   "outputs": [
    {
     "data": {
      "text/plain": [
       "'gmrPagimnor'"
      ]
     },
     "execution_count": 22,
     "metadata": {},
     "output_type": "execute_result"
    }
   ],
   "source": [
    "rearrange(\"Programming\")\n",
    "#Time Complexity O(NlogN) and Space Complexity O(N)"
   ]
  },
  {
   "cell_type": "code",
   "execution_count": 23,
   "metadata": {},
   "outputs": [],
   "source": [
    "#Rearrange String K Distance Apart\n",
    "from collections import deque\n",
    "def rearrange_k(s,k):\n",
    "    if k <= 1:\n",
    "        return s\n",
    "    charfreq = {}\n",
    "    for i in s:\n",
    "        if i not in charfreq:\n",
    "            charfreq[i] = 0\n",
    "        charfreq[i] += 1\n",
    "    maxheap = []\n",
    "    for char,freq in charfreq.items():\n",
    "        heappush(maxheap,(-freq,char))\n",
    "    queue = deque()\n",
    "    result = []\n",
    "    while maxheap:\n",
    "        freq,char = heappop(maxheap)\n",
    "        result.append(char)\n",
    "        queue.append((char,freq+1))\n",
    "        if len(queue) == k:\n",
    "            char,freq = queue.popleft()\n",
    "            if -freq > 0:\n",
    "                heappush(maxheap,(freq,char))\n",
    "    return ''.join(result) if len(result) == len(s) else ''"
   ]
  },
  {
   "cell_type": "code",
   "execution_count": 24,
   "metadata": {},
   "outputs": [
    {
     "data": {
      "text/plain": [
       "'mpmp'"
      ]
     },
     "execution_count": 24,
     "metadata": {},
     "output_type": "execute_result"
    }
   ],
   "source": [
    "rearrange_k(\"mmpp\",2)\n",
    "#Time Complexity O(NlogN) and Space Complexity O(N)"
   ]
  },
  {
   "cell_type": "code",
   "execution_count": 25,
   "metadata": {},
   "outputs": [],
   "source": [
    "#Scheduling Tasks\n",
    "def schedule_tasks(tasks,k):\n",
    "    intervalcount = 0\n",
    "    taskfreq = {}\n",
    "    for i in tasks:\n",
    "        if i not in taskfreq:\n",
    "            taskfreq[i] = 0\n",
    "        taskfreq[i] += 1\n",
    "    maxheap = []\n",
    "    for char,freq in taskfreq.items():\n",
    "        heappush(maxheap,(-freq,char))\n",
    "    while maxheap:\n",
    "        waitlist = []\n",
    "        n = k+1\n",
    "        while n > 0 and maxheap:\n",
    "            intervalcount += 1\n",
    "            freq,count = heappop(maxheap)\n",
    "            if -freq > 1:\n",
    "                waitlist.append((freq+1,char))\n",
    "            n -= 1\n",
    "        for freq,char in waitlist:\n",
    "            heappush(maxheap, (freq,char))\n",
    "        if maxheap:\n",
    "            intervalcount += n\n",
    "    return intervalcount"
   ]
  },
  {
   "cell_type": "code",
   "execution_count": 26,
   "metadata": {},
   "outputs": [
    {
     "data": {
      "text/plain": [
       "7"
      ]
     },
     "execution_count": 26,
     "metadata": {},
     "output_type": "execute_result"
    }
   ],
   "source": [
    "schedule_tasks(['a', 'a', 'a', 'b', 'c', 'c'],2)\n",
    "#Time Complexity O(NlogN) and Space Complexity O(N)"
   ]
  },
  {
   "cell_type": "code",
   "execution_count": 27,
   "metadata": {},
   "outputs": [],
   "source": [
    "#Frequency Stack\n",
    "import collections\n",
    "class FreqStack:\n",
    "    def __init__(self):\n",
    "        self.freq = collections.Counter()\n",
    "        self.bucket = collections.defaultdict(list)\n",
    "        self.maxfreq = 0\n",
    "    \n",
    "    def push(self,ele):\n",
    "        self.freq[ele] += 1\n",
    "        f = self.freq[ele]\n",
    "        self.bucket[f].append(ele)\n",
    "        self.maxfreq = max(f,self.maxfreq)\n",
    "    \n",
    "    def pop(self):\n",
    "        ele = self.bucket[self.maxfreq].pop()\n",
    "        self.freq[ele] -= 1\n",
    "        if not self.bucket[self.maxfreq]:\n",
    "            self.maxfreq -= 1\n",
    "        return ele"
   ]
  },
  {
   "cell_type": "code",
   "execution_count": 28,
   "metadata": {},
   "outputs": [],
   "source": [
    "freq = FreqStack()",
   ]
  },
  {
   "cell_type": "code",
   "execution_count": 29,
   "metadata": {},
   "outputs": [],
   "source": [
    "freq.push(1)\n",
    "freq.push(2)\n",
    "freq.push(3)\n",
    "freq.push(2)\n",
    "freq.push(1)\n",
    "freq.push(2)\n",
    "freq.push(5)"
   ]
  },
  {
   "cell_type": "code",
   "execution_count": 30,
   "metadata": {},
   "outputs": [
    {
     "data": {
      "text/plain": [
       "2"
      ]
     },
     "execution_count": 30,
     "metadata": {},
     "output_type": "execute_result"
    }
   ],
   "source": [
    "freq.pop()"
   ]
  },
  {
   "cell_type": "code",
   "execution_count": 31,
   "metadata": {},
   "outputs": [
    {
     "data": {
      "text/plain": [
       "1"
      ]
     },
     "execution_count": 31,
     "metadata": {},
     "output_type": "execute_result"
    }
   ],
   "source": [
    "freq.pop()"
   ]
  },
  {
   "cell_type": "code",
   "execution_count": 32,
   "metadata": {},
   "outputs": [
    {
     "data": {
      "text/plain": [
       "2"
      ]
     },
     "execution_count": 32,
     "metadata": {},
     "output_type": "execute_result"
    }
   ],
   "source": [
    "freq.pop()\n",
    "#Time Complexity O(logN) and Space Complexity O(N)"
   ]
  }
 ],
 "metadata": {
  "kernelspec": {
   "display_name": "Python 3",
   "language": "python",
   "name": "python3"
  },
  "language_info": {
   "codemirror_mode": {
    "name": "ipython",
    "version": 3
   },
   "file_extension": ".py",
   "mimetype": "text/x-python",
   "name": "python",
   "nbconvert_exporter": "python",
   "pygments_lexer": "ipython3",
   "version": "3.7.6"
  }
 },
 "nbformat": 4,
 "nbformat_minor": 4
}
