{
 "cells": [
  {
   "cell_type": "code",
   "execution_count": 1,
   "metadata": {},
   "outputs": [],
   "source": [
    "#Topological Sort\n",
    "from collections import deque\n",
    "\n",
    "def topological_sort(vertices,edges):\n",
    "    sortedOrder = []\n",
    "    if vertices <= 0:\n",
    "        return sortedorder\n",
    "    indegree = {i: 0 for i in range(vertices)}\n",
    "    graph = {i: [] for i in range(vertices)}\n",
    "\n",
    "    for edge in edges:\n",
    "        parent,child = edge[0],edge[1]\n",
    "        graph[parent].append(child)\n",
    "        indegree[child] += 1\n",
    "\n",
    "    sources = deque()\n",
    "    for key in indegree:\n",
    "        if indegree[key] == 0:\n",
    "            sources.append(key)\n",
    "    while sources:\n",
    "        vertex = sources.popleft()\n",
    "        sortedOrder.append(vertex)\n",
    "        for child in graph[vertex]:\n",
    "            indegree[child] -= 1\n",
    "            if indegree[child] == 0:\n",
    "                sources.append(child)\n",
    "                \n",
    "    if len(sortedOrder) != vertices:\n",
    "        return []\n",
    "    return sortedOrder"
   ]
  },
  {
   "cell_type": "code",
   "execution_count": 2,
   "metadata": {},
   "outputs": [
    {
     "data": {
      "text/plain": [
       "[3, 2, 0, 1]"
      ]
     },
     "execution_count": 2,
     "metadata": {},
     "output_type": "execute_result"
    }
   ],
   "source": [
    "topological_sort(4,[[3,2],[3,0],[2,0],[2,1]])\n",
    "#Time Complexity O(V+E) and Space Complexity O(V+E)"
   ]
  },
  {
   "cell_type": "code",
   "execution_count": 3,
   "metadata": {},
   "outputs": [],
   "source": [
    "#Tasks Scheduling\n",
    "from collections import deque\n",
    "\n",
    "def tasks_scheduling(tasks,prereq):\n",
    "    sortedOrder = []\n",
    "    if tasks <=0:\n",
    "        return False\n",
    "    indegree = {i:0 for i in range(tasks)}\n",
    "    graph = {i:[] for i in range(tasks)}\n",
    "    \n",
    "    for pre in prereq:\n",
    "        parent, child = pre[0],pre[1]\n",
    "        graph[parent].append(child)\n",
    "        indegree[child] += 1\n",
    "        \n",
    "    sources = deque()\n",
    "    for key in indegree:\n",
    "        if indegree[key] == 0:\n",
    "            sources.append(key)\n",
    "    \n",
    "    while sources:\n",
    "        vertex = sources.popleft()\n",
    "        sortedOrder.append(vertex)\n",
    "        for child in graph[vertex]:\n",
    "            indegree[child] -= 1\n",
    "            if indegree[child] == 0:\n",
    "                sources.append(child)\n",
    "    return len(sortedOrder) == tasks"
   ]
  },
  {
   "cell_type": "code",
   "execution_count": 4,
   "metadata": {},
   "outputs": [
    {
     "data": {
      "text/plain": [
       "True"
      ]
     },
     "execution_count": 4,
     "metadata": {},
     "output_type": "execute_result"
    }
   ],
   "source": [
    "tasks_scheduling(3,[[0,1],[1,2]])\n",
    "#Time Complexity O(V+E) and Space Complexity O(V+E)"
   ]
  },
  {
   "cell_type": "code",
   "execution_count": 5,
   "metadata": {},
   "outputs": [],
   "source": [
    "#Tasks Scheduling Order\n",
    "from collections import deque\n",
    "\n",
    "def find_order(tasks,prereqs):\n",
    "    sortedOrder = []\n",
    "    if tasks <= 0:\n",
    "        return sortedOrder\n",
    "    indegree = {i:0 for i in range(tasks)}\n",
    "    graph = {i:[] for i in range(tasks)}\n",
    "    \n",
    "    for prereq in prereqs:\n",
    "        parent, child = prereq[0],prereq[1]\n",
    "        graph[parent].append(child)\n",
    "        indegree[child] += 1\n",
    "    \n",
    "    sources = deque()\n",
    "    for key in indegree:\n",
    "        if indegree[key] == 0:\n",
    "            sources.append(key)\n",
    "            \n",
    "    while sources:\n",
    "        vertex = sources.popleft()\n",
    "        sortedOrder.append(vertex)\n",
    "        for child in graph[vertex]:\n",
    "            indegree[child] -= 1\n",
    "            if indegree[child] == 0:\n",
    "                sources.append(child)\n",
    "                \n",
    "    if len(sortedOrder) != tasks:\n",
    "        return []\n",
    "    return sortedOrder"
   ]
  },
  {
   "cell_type": "code",
   "execution_count": 6,
   "metadata": {},
   "outputs": [
    {
     "data": {
      "text/plain": [
       "[0, 1, 2]"
      ]
     },
     "execution_count": 6,
     "metadata": {},
     "output_type": "execute_result"
    }
   ],
   "source": [
    "find_order(3,[[0,1],[1,2]])\n",
    "#Time Complexity O(V+E) and Space Complexity O(V+E) "
   ]
  },
  {
   "cell_type": "code",
   "execution_count": 7,
   "metadata": {},
   "outputs": [],
   "source": [
    "#All Tasks Scheduling Order\n",
    "from collections import deque\n",
    "\n",
    "def print_orders(tasks,prereqs):\n",
    "    sortedOrder = []\n",
    "    if tasks <= 0:\n",
    "        return False\n",
    "    indegree = {i:0 for i in range(tasks)}\n",
    "    graph = {i: [] for i in range(tasks)}\n",
    "    \n",
    "    for prereq in prereqs:\n",
    "        parent,child = prereq[0],prereq[1]\n",
    "        graph[parent].append(child)\n",
    "        indegree[child] += 1\n",
    "    sources = deque()\n",
    "    for key in indegree:\n",
    "        if indegree[key] == 0:\n",
    "            sources.append(key)\n",
    "    all_orders(graph,indegree,sources,sortedOrder)\n",
    "\n",
    "def all_orders(graph,indegree,sources,sortedOrder):\n",
    "    if sources:\n",
    "        for vertex in sources:\n",
    "            sortedOrder.append(vertex)\n",
    "            sourcesnextcall = deque(sources)\n",
    "            sourcesnextcall.remove(vertex)\n",
    "            for child in graph[vertex]:\n",
    "                indegree[child] -= 1\n",
    "                if indegree[child] == 0:\n",
    "                    sourcesnextcall.append(child)\n",
    "            all_orders(graph,indegree,sourcesnextcall,sortedOrder)\n",
    "            \n",
    "            sortedOrder.remove(vertex)\n",
    "            for child in graph[vertex]:\n",
    "                indegree[child] += 1\n",
    "                \n",
    "    if len(sortedOrder) == len(indegree):\n",
    "        print(sortedOrder)"
   ]
  },
  {
   "cell_type": "code",
   "execution_count": 8,
   "metadata": {},
   "outputs": [
    {
     "name": "stdout",
     "output_type": "stream",
     "text": [
      "[0, 1, 4, 3, 2, 5]\n",
      "[0, 1, 3, 4, 2, 5]\n",
      "[0, 1, 3, 2, 4, 5]\n",
      "[0, 1, 3, 2, 5, 4]\n",
      "[1, 0, 3, 4, 2, 5]\n",
      "[1, 0, 3, 2, 4, 5]\n",
      "[1, 0, 3, 2, 5, 4]\n",
      "[1, 0, 4, 3, 2, 5]\n",
      "[1, 3, 0, 2, 4, 5]\n",
      "[1, 3, 0, 2, 5, 4]\n",
      "[1, 3, 0, 4, 2, 5]\n",
      "[1, 3, 2, 0, 5, 4]\n",
      "[1, 3, 2, 0, 4, 5]\n"
     ]
    }
   ],
   "source": [
    "print_orders(6,[[2, 5], [0, 5], [0, 4], [1, 4], [3, 2], [1, 3]])\n",
    "#Time Complexity O(V!*E) and Space Complexity O(V!*E)"
   ]
  },
  {
   "cell_type": "code",
   "execution_count": 9,
   "metadata": {},
   "outputs": [],
   "source": [
    "#Alien Dictionary\n",
    "from collections import deque\n",
    "\n",
    "def find_orders(words):\n",
    "    if len(words) == 0:\n",
    "        return \"\"\n",
    "    indegree = {}\n",
    "    graph = {}\n",
    "    for word in words:\n",
    "        for ch in word:\n",
    "            indegree[ch] = 0\n",
    "            graph[ch] = []\n",
    "    for i in range(len(words)-1):\n",
    "        w1,w2 = words[i],words[i+1]\n",
    "        for j in range(min(len(w1),len(w2))):\n",
    "            parent,child = w1[j],w2[j]\n",
    "            if parent != child:\n",
    "                graph[parent].append(child)\n",
    "                indegree[child] += 1\n",
    "                break\n",
    "    sources = deque()\n",
    "    for key in indegree:\n",
    "        if indegree[key] == 0:\n",
    "            sources.append(key)\n",
    "    \n",
    "    sortedOrder = []\n",
    "    while sources:\n",
    "        vertex = sources.popleft()\n",
    "        sortedOrder.append(vertex)\n",
    "        for child in graph[vertex]:\n",
    "            indegree[child] -= 1\n",
    "            if indegree[child] == 0:\n",
    "                sources.append(child)\n",
    "                \n",
    "    if len(sortedOrder) != len(indegree):\n",
    "        return \"\"\n",
    "    return ''.join(sortedOrder)"
   ]
  },
  {
   "cell_type": "code",
   "execution_count": 10,
   "metadata": {},
   "outputs": [
    {
     "data": {
      "text/plain": [
       "'bac'"
      ]
     },
     "execution_count": 10,
     "metadata": {},
     "output_type": "execute_result"
    }
   ],
   "source": [
    "find_orders([\"ba\",\"bc\",\"ac\",\"cab\"])\n",
    "#Time Complexity O(V+N) and Space Complexity O(V+N)"
   ]
  },
  {
   "cell_type": "code",
   "execution_count": 11,
   "metadata": {},
   "outputs": [],
   "source": [
    "#Reconstructing Sequence\n",
    "from collections import deque\n",
    "\n",
    "def can_construct(originalseq, sequences):\n",
    "    sortedOrder = []\n",
    "    if len(originalseq) <= 0:\n",
    "        return False\n",
    "    \n",
    "    indegree = {}\n",
    "    graph = {}\n",
    "    for seq in sequences:\n",
    "        for num in seq:\n",
    "            indegree[num] = 0\n",
    "            graph[num] = []\n",
    "    for seq in sequences:\n",
    "        for i in range(len(seq)-1):\n",
    "            parent,child = seq[i],seq[i+1]\n",
    "            graph[parent].append(child)\n",
    "            indegree[child] += 1\n",
    "            \n",
    "    if len(indegree) != len(originalseq):\n",
    "        return False\n",
    "    \n",
    "    sources = deque()\n",
    "    for key in indegree:\n",
    "        if indegree[key] == 0:\n",
    "            sources.append(key)\n",
    "    \n",
    "    while sources:\n",
    "        if len(sources) > 1:\n",
    "            return False\n",
    "        if originalseq[len(sortedOrder)] != sources[0]:\n",
    "            return False\n",
    "        \n",
    "        vertex = sources.popleft()\n",
    "        sortedOrder.append(vertex)\n",
    "        for child in graph[vertex]:\n",
    "            indegree[child] -= 1\n",
    "            if indegree[child] == 0:\n",
    "                sources.append(child)\n",
    "                \n",
    "    return len(sortedOrder) == len(originalseq)"
   ]
  },
  {
   "cell_type": "code",
   "execution_count": 12,
   "metadata": {},
   "outputs": [
    {
     "data": {
      "text/plain": [
       "True"
      ]
     },
     "execution_count": 12,
     "metadata": {},
     "output_type": "execute_result"
    }
   ],
   "source": [
    "can_construct([1,2,3,4], [[1,2],[2,3],[3,4]])\n",
    "#Time Complexity O(V+N) and  Space Complexity O(V+N)"
   ]
  },
  {
   "cell_type": "code",
   "execution_count": 13,
   "metadata": {},
   "outputs": [],
   "source": [
    "#Minimum Height Trees\n",
    "from collections import deque\n",
    "\n",
    "def find_trees(nodes,edges):\n",
    "    if nodes <= 0:\n",
    "        return []\n",
    "    \n",
    "    if nodes == 1:\n",
    "        return [0]\n",
    "    \n",
    "    inDegree = {i:0 for i in range(nodes)}\n",
    "    graph = {i:[] for i in range(nodes)}    \n",
    "    \n",
    "    for edge in edges:\n",
    "        n1,n2 = edge[0],edge[1]\n",
    "        graph[n1].append(n2)\n",
    "        graph[n2].append(n1)\n",
    "        \n",
    "        inDegree[n1] += 1\n",
    "        inDegree[n2] += 1\n",
    "    \n",
    "    leaves = deque()\n",
    "    for key in inDegree:\n",
    "        if inDegree[key] == 1:\n",
    "            leaves.append(key)\n",
    "    \n",
    "    totalnodes = nodes\n",
    "    while totalnodes > 2:\n",
    "        leavessize = len(leaves)\n",
    "        totalnodes -= leavessize\n",
    "        for i in range(0,leavessize):\n",
    "            vertex = leaves.popleft()\n",
    "            for child in graph[vertex]:\n",
    "                inDegree[child] -= 1\n",
    "                if inDegree[child] == 1:\n",
    "                    leaves.append(child)\n",
    "    return list(leaves)"
   ]
  },
  {
   "cell_type": "code",
   "execution_count": 14,
   "metadata": {},
   "outputs": [
    {
     "data": {
      "text/plain": [
       "[1, 2]"
      ]
     },
     "execution_count": 14,
     "metadata": {},
     "output_type": "execute_result"
    }
   ],
   "source": [
    "find_trees(5,[[0,1],[1,2],[1,3],[2,4]])"
   ]
  }
 ],
 "metadata": {
  "kernelspec": {
   "display_name": "Python 3",
   "language": "python",
   "name": "python3"
  },
  "language_info": {
   "codemirror_mode": {
    "name": "ipython",
    "version": 3
   },
   "file_extension": ".py",
   "mimetype": "text/x-python",
   "name": "python",
   "nbconvert_exporter": "python",
   "pygments_lexer": "ipython3",
   "version": "3.7.6"
  }
 },
 "nbformat": 4,
 "nbformat_minor": 4
}
