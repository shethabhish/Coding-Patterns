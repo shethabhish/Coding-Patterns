{
 "cells": [
  {
   "cell_type": "code",
   "execution_count": 1,
   "metadata": {},
   "outputs": [],
   "source": [
    "class Tree:\n",
    "    def __init__(self, val, left = None, right = None):\n",
    "        self.val = val\n",
    "        self.right = right\n",
    "        self.left = left"
   ]
  },
  {
   "cell_type": "code",
   "execution_count": 2,
   "metadata": {},
   "outputs": [],
   "source": [
    "#Binary Tree Path Sum\n",
    "def has_path(root,s):\n",
    "    if root is None:\n",
    "        return False\n",
    "    if root.val == s and root.left is None and root.right is None:\n",
    "        return True\n",
    "    return has_path(root.left, s-root.val) or has_path(root.right, s-root.val)"
   ]
  },
  {
   "cell_type": "code",
   "execution_count": 3,
   "metadata": {},
   "outputs": [],
   "source": [
    "root = Tree(12)\n",
    "root.left = Tree(7)\n",
    "root.right = Tree(1)\n",
    "root.left.left = Tree(9)\n",
    "root.right.left = Tree(10)\n",
    "root.right.right = Tree(5)"
   ]
  },
  {
   "cell_type": "code",
   "execution_count": 4,
   "metadata": {},
   "outputs": [
    {
     "data": {
      "text/plain": [
       "True"
      ]
     },
     "execution_count": 4,
     "metadata": {},
     "output_type": "execute_result"
    }
   ],
   "source": [
    "has_path(root,23)\n",
    "#Time Complexity O(N) and Space Complexity O(N)"
   ]
  },
  {
   "cell_type": "code",
   "execution_count": 5,
   "metadata": {},
   "outputs": [
    {
     "data": {
      "text/plain": [
       "False"
      ]
     },
     "execution_count": 5,
     "metadata": {},
     "output_type": "execute_result"
    }
   ],
   "source": [
    "has_path(root,16)"
   ]
  },
  {
   "cell_type": "code",
   "execution_count": 6,
   "metadata": {},
   "outputs": [],
   "source": [
    "#All Paths for a Sum\n",
    "def find_paths(root,s):\n",
    "    allpaths = []\n",
    "    find_paths_recursive(root,allpaths,[],s)\n",
    "    return allpaths\n",
    "\n",
    "def find_paths_recursive(currentnode,allpaths,currentpath,s):\n",
    "    if currentnode is None:\n",
    "        return \n",
    "    currentpath.append(currentnode.val)\n",
    "    if currentnode.val == s and currentnode.left is None and currentnode.right is None:\n",
    "        allpaths.append(list(currentpath))\n",
    "    else:\n",
    "        find_paths_recursive(currentnode.left,allpaths,currentpath,s-currentnode.val)\n",
    "        find_paths_recursive(currentnode.right,allpaths,currentpath,s-currentnode.val)\n",
    "    del currentpath[-1]"
   ]
  },
  {
   "cell_type": "code",
   "execution_count": 7,
   "metadata": {},
   "outputs": [],
   "source": [
    "root = Tree(12)\n",
    "root.left = Tree(7)\n",
    "root.right = Tree(1)\n",
    "root.left.left = Tree(4)\n",
    "root.right.left = Tree(10)\n",
    "root.right.right = Tree(5)"
   ]
  },
  {
   "cell_type": "code",
   "execution_count": 8,
   "metadata": {},
   "outputs": [
    {
     "data": {
      "text/plain": [
       "[[12, 7, 4], [12, 1, 10]]"
      ]
     },
     "execution_count": 8,
     "metadata": {},
     "output_type": "execute_result"
    }
   ],
   "source": [
    "find_paths(root,23)\n",
    "#Time Complexity O(N*2) and Space Complexity O(N)"
   ]
  },
  {
   "cell_type": "code",
   "execution_count": 9,
   "metadata": {},
   "outputs": [],
   "source": [
    "#Sum of Path Numbers\n",
    "def find_sum(root):\n",
    "    return sum_path(root,0)\n",
    "\n",
    "def sum_path(currentnode,pathsum):\n",
    "    if currentnode is None:\n",
    "        return 0\n",
    "    pathsum = 10 * pathsum + currentnode.val\n",
    "    \n",
    "    if currentnode.left is None and currentnode.right is None:\n",
    "        return pathsum\n",
    "    return sum_path(currentnode.left,pathsum) + sum_path(currentnode.right,pathsum)"
   ]
  },
  {
   "cell_type": "code",
   "execution_count": 10,
   "metadata": {},
   "outputs": [
    {
     "data": {
      "text/plain": [
       "3709"
      ]
     },
     "execution_count": 10,
     "metadata": {},
     "output_type": "execute_result"
    }
   ],
   "source": [
    "find_sum(root)\n",
    "#Time Complexity O(N) and Space Complexity O(N)"
   ]
  },
  {
   "cell_type": "code",
   "execution_count": 11,
   "metadata": {},
   "outputs": [],
   "source": [
    "def find_path(root,sequence):\n",
    "    if root is None:\n",
    "        return len(sequence) == 0\n",
    "    return path(root,sequence,0)\n",
    "\n",
    "def path(currentnode,sequence,index):\n",
    "    if currentnode is None:\n",
    "        return False\n",
    "    seqlen = len(sequence)\n",
    "    if index >= seqlen or currentnode.val != sequence[index]:\n",
    "        return False\n",
    "    if currentnode.left is None and currentnode.right is None and index == seqlen - 1:\n",
    "        return True\n",
    "    return path(currentnode.left,sequence,index+1) or path(currentnode.right,sequence,index+1)"
   ]
  },
  {
   "cell_type": "code",
   "execution_count": 12,
   "metadata": {},
   "outputs": [],
   "source": [
    "root = Tree(1)\n",
    "root.left = Tree(0)\n",
    "root.right = Tree(1)\n",
    "root.left.left = Tree(1)\n",
    "root.right.left = Tree(6)\n",
    "root.right.right = Tree(5)"
   ]
  },
  {
   "cell_type": "code",
   "execution_count": 13,
   "metadata": {},
   "outputs": [
    {
     "data": {
      "text/plain": [
       "False"
      ]
     },
     "execution_count": 13,
     "metadata": {},
     "output_type": "execute_result"
    }
   ],
   "source": [
    "find_path(root,[1,0,7])\n",
    "#Time Complexity O(N) and Space Complexity O(N)"
   ]
  },
  {
   "cell_type": "code",
   "execution_count": 14,
   "metadata": {},
   "outputs": [
    {
     "data": {
      "text/plain": [
       "True"
      ]
     },
     "execution_count": 14,
     "metadata": {},
     "output_type": "execute_result"
    }
   ],
   "source": [
    "find_path(root,[1,1,6])"
   ]
  },
  {
   "cell_type": "code",
   "execution_count": 15,
   "metadata": {},
   "outputs": [],
   "source": [
    "#Count Paths for a Sum\n",
    "def count_paths(root,s):\n",
    "    return count_path(root,s,[])\n",
    "\n",
    "def count_path(currentnode,s,currentpath):\n",
    "    if currentnode is None:\n",
    "        return 0\n",
    "    currentpath.append(currentnode.val)\n",
    "    pathcount, pathsum =0,0\n",
    "    for i in range(len(currentpath)-1,-1,-1):\n",
    "        pathsum += currentpath[i]\n",
    "        if pathsum == s:\n",
    "            pathcount += 1\n",
    "            \n",
    "    pathcount += count_path(currentnode.left,s,currentpath)\n",
    "    pathcount += count_path(currentnode.right,s,currentpath)\n",
    "    \n",
    "    del currentpath[-1]\n",
    "    return pathcount"
   ]
  },
  {
   "cell_type": "code",
   "execution_count": 16,
   "metadata": {},
   "outputs": [],
   "source": [
    "root = Tree(12)\n",
    "root.left = Tree(7)\n",
    "root.right = Tree(1)\n",
    "root.left.left = Tree(4)\n",
    "root.right.left = Tree(10)\n",
    "root.right.right = Tree(5)"
   ]
  },
  {
   "cell_type": "code",
   "execution_count": 17,
   "metadata": {},
   "outputs": [
    {
     "data": {
      "text/plain": [
       "2"
      ]
     },
     "execution_count": 17,
     "metadata": {},
     "output_type": "execute_result"
    }
   ],
   "source": [
    "count_paths(root,11)\n",
    "#Time Complexity O(N) and Space Complexity O(N)"
   ]
  },
  {
   "cell_type": "code",
   "execution_count": 18,
   "metadata": {},
   "outputs": [],
   "source": [
    "#Tree Diameter\n",
    "class TreeDiameter:\n",
    "    def __init__(self):\n",
    "        self.treeDiameter = 0\n",
    "    def find_diameter(self,root):\n",
    "        self.calculate_diameter(root)\n",
    "        return self.treeDiameter\n",
    "    def calculate_diameter(self,currentnode):\n",
    "        if currentnode is None:\n",
    "            return 0\n",
    "        lefttreeheight = self.calculate_diameter(currentnode.left)\n",
    "        righttreeheight = self.calculate_diameter(currentnode.right)\n",
    "        diameter = lefttreeheight + righttreeheight+1\n",
    "        self.treeDiameter = max(self.treeDiameter,diameter)\n",
    "        return max(lefttreeheight,righttreeheight)+1"
   ]
  },
  {
   "cell_type": "code",
   "execution_count": 19,
   "metadata": {},
   "outputs": [],
   "source": [
    "dia = TreeDiameter()\n",
    "root = Tree(1)\n",
    "root.left = Tree(2)\n",
    "root.right = Tree(3)\n",
    "root.left.left = Tree(4)\n",
    "root.right.left = Tree(5)\n",
    "root.right.right = Tree(6)"
   ]
  },
  {
   "cell_type": "code",
   "execution_count": 20,
   "metadata": {},
   "outputs": [
    {
     "data": {
      "text/plain": [
       "5"
      ]
     },
     "execution_count": 20,
     "metadata": {},
     "output_type": "execute_result"
    }
   ],
   "source": [
    "dia.find_diameter(root)\n",
    "#Time Complexity O(N) and Space Complexity O(N)"
   ]
  },
  {
   "cell_type": "code",
   "execution_count": 21,
   "metadata": {},
   "outputs": [],
   "source": [
    "#Path with Maximum Sum\n",
    "import math\n",
    "class maximum_path:\n",
    "    def find_max(self,root):\n",
    "        self.maxsum = -math.inf\n",
    "        self.max_path(root)\n",
    "        return self.maxsum\n",
    "    \n",
    "    def max_path(self,currentnode):\n",
    "        if currentnode is None:\n",
    "            return 0\n",
    "        maxsumleft = self.max_path(currentnode.left)\n",
    "        maxsumright = self.max_path(currentnode.right)\n",
    "        \n",
    "        maxsumleft = max(maxsumleft,0)\n",
    "        maxsumright = max(maxsumright,0)\n",
    "        \n",
    "        currentmaxsum = maxsumleft + maxsumright + currentnode.val\n",
    "        \n",
    "        self.maxsum = max(self.maxsum,currentmaxsum)\n",
    "        \n",
    "        return max(maxsumleft,maxsumright) + currentnode.val"
   ]
  },
  {
   "cell_type": "code",
   "execution_count": 22,
   "metadata": {},
   "outputs": [],
   "source": [
    "root = Tree(1)\n",
    "root.left = Tree(2)\n",
    "root.right = Tree(3)\n",
    "root.left.left = Tree(1)\n",
    "root.left.right = Tree(3)\n",
    "root.right.left = Tree(5)\n",
    "root.right.right = Tree(6)\n",
    "root.right.left.left = Tree(7)\n",
    "root.right.left.right = Tree(8)\n",
    "root.right.right.left = Tree(9)"
   ]
  },
  {
   "cell_type": "code",
   "execution_count": 23,
   "metadata": {},
   "outputs": [
    {
     "data": {
      "text/plain": [
       "31"
      ]
     },
     "execution_count": 23,
     "metadata": {},
     "output_type": "execute_result"
    }
   ],
   "source": [
    "maxpathsum = maximum_path()\n",
    "maxpathsum.find_max(root)\n",
    "#Time Complexity O(N) and Space Complexity O(N)"
   ]
  }
 ],
 "metadata": {
  "kernelspec": {
   "display_name": "Python 3",
   "language": "python",
   "name": "python3"
  },
  "language_info": {
   "codemirror_mode": {
    "name": "ipython",
    "version": 3
   },
   "file_extension": ".py",
   "mimetype": "text/x-python",
   "name": "python",
   "nbconvert_exporter": "python",
   "pygments_lexer": "ipython3",
   "version": "3.7.6"
  }
 },
 "nbformat": 4,
 "nbformat_minor": 4
}
