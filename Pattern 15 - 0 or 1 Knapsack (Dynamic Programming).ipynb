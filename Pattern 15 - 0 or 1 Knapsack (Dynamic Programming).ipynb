{
 "cells": [
  {
   "cell_type": "code",
   "execution_count": 1,
   "metadata": {},
   "outputs": [],
   "source": [
    "#0/1 Knapsack\n",
    "def solve_knapsack(profits,weights,capacity):\n",
    "    n = len(profits)\n",
    "    if capacity <= 0 or n == 0 or len(weights) != n:\n",
    "        return 0\n",
    "    dp = [[0 for x in range(capacity+1)] for y in range(n)]\n",
    "    \n",
    "    for i in range(0,n):\n",
    "        dp[i][0] = 0\n",
    "    \n",
    "    for c in range(0,capacity+1):\n",
    "        if weights[0] <= c:\n",
    "            dp[0][c] = profits[0]\n",
    "    for i in range(1,n):\n",
    "        for c in range(1,capacity+1):\n",
    "            profit1, profit2 = 0,0\n",
    "            if weights[i] <= c:\n",
    "                profit1 = profits[i] + dp[i-1][c-weights[i]]\n",
    "            profit2 = dp[i-1][c]\n",
    "            dp[i][c] = max(profit1,profit2)\n",
    "    return dp[n-1][capacity]"
   ]
  },
  {
   "cell_type": "code",
   "execution_count": 2,
   "metadata": {},
   "outputs": [
    {
     "data": {
      "text/plain": [
       "22"
      ]
     },
     "execution_count": 2,
     "metadata": {},
     "output_type": "execute_result"
    }
   ],
   "source": [
    "solve_knapsack([1,6,10,16],[1,2,3,5],7)\n",
    "#Time Complexity O(N*C) and Space Complexity is O(N*C)"
   ]
  },
  {
   "cell_type": "code",
   "execution_count": 3,
   "metadata": {},
   "outputs": [],
   "source": [
    "#Equal Subset Sum Partition\n",
    "def can_partition(nums):\n",
    "    s = sum(nums)\n",
    "    if s%2 != 0:\n",
    "        return False\n",
    "    s = int(s/2)\n",
    "    n = len(nums)\n",
    "    dp = [[False for x in range(s+1)] for y in range(n)]\n",
    "    \n",
    "    for i in range(0,n):\n",
    "        dp[i][0] = False\n",
    "    for j in range(1,s+1):\n",
    "        dp[0][j] = nums[0]==j\n",
    "    \n",
    "    for i in range(1,n):\n",
    "        for j in range(1,s+1):\n",
    "            if dp[i-1][j]:\n",
    "                dp[i][j] = dp[i-1][j]\n",
    "            elif j >= nums[i]:\n",
    "                dp[i][j] = dp[i-1][j-nums[i]]\n",
    "    return dp[n-1][s]"
   ]
  },
  {
   "cell_type": "code",
   "execution_count": 4,
   "metadata": {},
   "outputs": [
    {
     "data": {
      "text/plain": [
       "True"
      ]
     },
     "execution_count": 4,
     "metadata": {},
     "output_type": "execute_result"
    }
   ],
   "source": [
    "can_partition([1,2,3,4])\n",
    "#Time Complexity O(N*S) and Space Complexity is O(N*S)"
   ]
  },
  {
   "cell_type": "code",
   "execution_count": 5,
   "metadata": {},
   "outputs": [],
   "source": [
    "#Subset Sum\n",
    "def subset_sum(nums,s):\n",
    "    n = len(nums)\n",
    "    dp = [[False for x in range(s+1)] for y in range(n)]\n",
    "    \n",
    "    for i in range(0,n):\n",
    "        dp[i][0] = True\n",
    "    \n",
    "    for j in range(1,s+1):\n",
    "        dp[0][j] = True if nums[0] == j else False\n",
    "        \n",
    "    for i in range(1,n):\n",
    "        for j in range(1,s+1):\n",
    "            if dp[i-1][j]:\n",
    "                dp[i][j] = dp[i-1][j]\n",
    "            elif j >= nums[i]:\n",
    "                dp[i][j] = dp[i-1][j-nums[i]]\n",
    "    return dp[n-1][s]"
   ]
  },
  {
   "cell_type": "code",
   "execution_count": 6,
   "metadata": {},
   "outputs": [
    {
     "data": {
      "text/plain": [
       "True"
      ]
     },
     "execution_count": 6,
     "metadata": {},
     "output_type": "execute_result"
    }
   ],
   "source": [
    "subset_sum([1,2,3,7],6)\n",
    "#Time Complexity O(N*S) and Space Complexity is O(N*S)"
   ]
  },
  {
   "cell_type": "code",
   "execution_count": 7,
   "metadata": {},
   "outputs": [],
   "source": [
    "#Minimum Subset Sum Difference\n",
    "def minimum_subset(nums):\n",
    "    s = sum(nums)\n",
    "    n = len(nums)\n",
    "    dp = [[False for x in range(int(s/2)+1)] for y in range(n)]\n",
    "    \n",
    "    for i in range(0,n):\n",
    "        dp[i][0] = True\n",
    "    \n",
    "    for j in range(0,int(s/2)+1):\n",
    "        dp[0][j] = nums[0] == j\n",
    "    \n",
    "    for i in range(1,n):\n",
    "        for j in range(1,int(s/2)+1):\n",
    "            if dp[i-1][j]:\n",
    "                dp[i][j] = dp[i-1][j]\n",
    "            elif j >= nums[i]:\n",
    "                dp[i][j] = dp[i-1][j-nums[i]]\n",
    "    sum1 = 0\n",
    "    for i in range(int(s/2),-1,-1):\n",
    "        if dp[n-1][i]:\n",
    "            sum1 = i\n",
    "            break\n",
    "    sum2 = s - sum1\n",
    "    return abs(sum2-sum1)"
   ]
  },
  {
   "cell_type": "code",
   "execution_count": 8,
   "metadata": {},
   "outputs": [
    {
     "data": {
      "text/plain": [
       "3"
      ]
     },
     "execution_count": 8,
     "metadata": {},
     "output_type": "execute_result"
    }
   ],
   "source": [
    "minimum_subset([1,2,3,9])\n",
    "#Time Complexity O(N*S) and Space Complexity is O(N*S)"
   ]
  },
  {
   "cell_type": "code",
   "execution_count": 9,
   "metadata": {},
   "outputs": [],
   "source": [
    "#Count of Subset Sum\n",
    "def count_subset(nums,s):\n",
    "    n = len(nums)\n",
    "    dp = [[-1 for x in range(s+1)] for y in range(n)]\n",
    "    \n",
    "    for i in range(n):\n",
    "        dp[i][0] = 1\n",
    "    \n",
    "    for j in range(1,s+1):\n",
    "        dp[0][j] = 1 if nums[0] == j else 0\n",
    "    \n",
    "    for i in range(1,n):\n",
    "        for j in range(1,s+1):\n",
    "            dp[i][j] = dp[i-1][j]\n",
    "            if j >= nums[i]:\n",
    "                dp[i][j] += dp[i-1][j-nums[i]]\n",
    "    return dp[n-1][s]"
   ]
  },
  {
   "cell_type": "code",
   "execution_count": 10,
   "metadata": {},
   "outputs": [
    {
     "data": {
      "text/plain": [
       "3"
      ]
     },
     "execution_count": 10,
     "metadata": {},
     "output_type": "execute_result"
    }
   ],
   "source": [
    "count_subset([1,2,7,1,5],9)\n",
    "#Time Complexity O(N*S) and Space Complexity is O(N*S)"
   ]
  },
  {
   "cell_type": "code",
   "execution_count": 11,
   "metadata": {},
   "outputs": [],
   "source": [
    "#Target Sum\n",
    "def target_sum(nums,s):\n",
    "    totalsum = sum(nums)\n",
    "    if totalsum < s or (s+totalsum) % 2 == 1:\n",
    "        return 0\n",
    "    return count_subsets(nums,(s+totalsum)//2)\n",
    "\n",
    "def count_subsets(nums,s):\n",
    "    n = len(nums)\n",
    "    dp = [[0 for x in range(s+1)] for y in range(n)]\n",
    "    \n",
    "    for i in range(0,n):\n",
    "        dp[i][0] = 1\n",
    "        \n",
    "    for j in range(1,s+1):\n",
    "        dp[0][j] = 1 if nums[0] == j else 0\n",
    "    \n",
    "    for i in range(1,n):\n",
    "        for j in range(1,s+1):\n",
    "            dp[i][j] = dp[i-1][j]\n",
    "            if j >= nums[i]:\n",
    "                dp[i][j] += dp[i-1][j-nums[i]]\n",
    "    return dp[n-1][s]"
   ]
  },
  {
   "cell_type": "code",
   "execution_count": 12,
   "metadata": {},
   "outputs": [
    {
     "data": {
      "text/plain": [
       "3"
      ]
     },
     "execution_count": 12,
     "metadata": {},
     "output_type": "execute_result"
    }
   ],
   "source": [
    "target_sum([1,1,2,3],1)\n",
    "#Time Complexity O(N*S) and Space Complexity is O(N*S)"
   ]
  }
 ],
 "metadata": {
  "kernelspec": {
   "display_name": "Python 3",
   "language": "python",
   "name": "python3"
  },
  "language_info": {
   "codemirror_mode": {
    "name": "ipython",
    "version": 3
   },
   "file_extension": ".py",
   "mimetype": "text/x-python",
   "name": "python",
   "nbconvert_exporter": "python",
   "pygments_lexer": "ipython3",
   "version": "3.7.6"
  }
 },
 "nbformat": 4,
 "nbformat_minor": 4
}
