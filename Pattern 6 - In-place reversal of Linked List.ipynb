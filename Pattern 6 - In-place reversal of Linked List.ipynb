{
 "cells": [
  {
   "cell_type": "code",
   "execution_count": 1,
   "metadata": {},
   "outputs": [],
   "source": [
    "class Node:\n",
    "    def __init__(self,value,next=None):\n",
    "        self.value = value\n",
    "        self.next = next"
   ]
  },
  {
   "cell_type": "code",
   "execution_count": 2,
   "metadata": {},
   "outputs": [],
   "source": [
    "def print_list(self):\n",
    "        temp = self\n",
    "        while temp:\n",
    "            print(temp.value ,end=\" \")\n",
    "            temp = temp.next\n",
    "        print()"
   ]
  },
  {
   "cell_type": "code",
   "execution_count": 3,
   "metadata": {},
   "outputs": [],
   "source": [
    "#Reverse a LinkedList \n",
    "def reverse(head):\n",
    "    prev = None\n",
    "    current = head\n",
    "    while current:\n",
    "        next = current.next\n",
    "        current.next = prev\n",
    "        prev = current\n",
    "        current = next\n",
    "    return prev"
   ]
  },
  {
   "cell_type": "code",
   "execution_count": 4,
   "metadata": {},
   "outputs": [],
   "source": [
    "head = Node(2)\n",
    "head.next = Node(4)\n",
    "head.next.next = Node(6)\n",
    "head.next.next.next = Node(8)\n",
    "head.next.next.next.next = Node(10)"
   ]
  },
  {
   "cell_type": "code",
   "execution_count": 5,
   "metadata": {},
   "outputs": [
    {
     "name": "stdout",
     "output_type": "stream",
     "text": [
      "2 4 6 8 10 \n"
     ]
    }
   ],
   "source": [
    "print_list(head)"
   ]
  },
  {
   "cell_type": "code",
   "execution_count": 6,
   "metadata": {},
   "outputs": [
    {
     "name": "stdout",
     "output_type": "stream",
     "text": [
      "10 8 6 4 2 \n"
     ]
    }
   ],
   "source": [
    "res = reverse(head)\n",
    "print_list(res)\n",
    "#Time Complexity O(N) and Space Complexity O(1)"
   ]
  },
  {
   "cell_type": "code",
   "execution_count": 7,
   "metadata": {},
   "outputs": [],
   "source": [
    "#Reverse Sublist\n",
    "def reverse_sublist(head,p,q):\n",
    "    if p==q:\n",
    "        return head\n",
    "    current = head\n",
    "    prev = None\n",
    "    i = 0\n",
    "    while current and i < p-1:\n",
    "        prev = current\n",
    "        current = current.next\n",
    "        i += 1\n",
    "    lastnodefirstpart = prev\n",
    "    lastnodesublist = current\n",
    "    next = None\n",
    "    i = 0\n",
    "    while current and i < q-p+1:\n",
    "        next = current.next\n",
    "        current.next = prev\n",
    "        prev = current\n",
    "        current = next\n",
    "        i += 1\n",
    "    if lastnodefirstpart:\n",
    "        lastnodefirstpart.next = prev\n",
    "    else:\n",
    "        head = prev\n",
    "    \n",
    "    lastnodesublist.next = current\n",
    "    return head"
   ]
  },
  {
   "cell_type": "code",
   "execution_count": 8,
   "metadata": {},
   "outputs": [],
   "source": [
    "head = Node(1)\n",
    "head.next = Node(2)\n",
    "head.next.next = Node(3)\n",
    "head.next.next.next = Node(4)\n",
    "head.next.next.next.next = Node(5)"
   ]
  },
  {
   "cell_type": "code",
   "execution_count": 9,
   "metadata": {},
   "outputs": [
    {
     "name": "stdout",
     "output_type": "stream",
     "text": [
      "1 2 3 4 5 \n"
     ]
    }
   ],
   "source": [
    "print_list(head)"
   ]
  },
  {
   "cell_type": "code",
   "execution_count": 10,
   "metadata": {},
   "outputs": [
    {
     "name": "stdout",
     "output_type": "stream",
     "text": [
      "1 4 3 2 5 \n"
     ]
    }
   ],
   "source": [
    "res = reverse_sublist(head,2,4)\n",
    "print_list(res)\n",
    "#Time Complexity O(N) and Space Complexity O(1)"
   ]
  },
  {
   "cell_type": "code",
   "execution_count": 11,
   "metadata": {},
   "outputs": [],
   "source": [
    "#Reverse Every K elements\n",
    "def reverse_every_k_elements(head,k):\n",
    "    if k<=1 or head is None:\n",
    "        return head\n",
    "    current, prev = head, None\n",
    "    while True:\n",
    "        lastnodeprevious = prev\n",
    "        lastnodesublist = current\n",
    "        next = None\n",
    "        i=0\n",
    "        while current and i < k:\n",
    "            next = current.next\n",
    "            current.next = prev\n",
    "            prev = current\n",
    "            current = next\n",
    "            i+=1\n",
    "            \n",
    "        if lastnodeprevious:\n",
    "            lastnodeprevious.next = prev\n",
    "        else:\n",
    "            head = prev\n",
    "            \n",
    "        lastnodesublist.next = current\n",
    "            \n",
    "        if current is None:\n",
    "            break\n",
    "        prev = lastnodesublist\n",
    "    return head"
   ]
  },
  {
   "cell_type": "code",
   "execution_count": 12,
   "metadata": {},
   "outputs": [],
   "source": [
    "head = Node(1)\n",
    "head.next = Node(2)\n",
    "head.next.next = Node(3)\n",
    "head.next.next.next = Node(4)\n",
    "head.next.next.next.next = Node(5)\n",
    "head.next.next.next.next.next = Node(6)\n",
    "head.next.next.next.next.next.next = Node(7)\n",
    "head.next.next.next.next.next.next.next = Node(8)\n",
    "head.next.next.next.next.next.next.next.next = Node(9)\n",
    "head.next.next.next.next.next.next.next.next.next = Node(10)"
   ]
  },
  {
   "cell_type": "code",
   "execution_count": 13,
   "metadata": {},
   "outputs": [
    {
     "name": "stdout",
     "output_type": "stream",
     "text": [
      "1 2 3 4 5 6 7 8 9 10 \n"
     ]
    }
   ],
   "source": [
    "print_list(head)"
   ]
  },
  {
   "cell_type": "code",
   "execution_count": 14,
   "metadata": {},
   "outputs": [
    {
     "name": "stdout",
     "output_type": "stream",
     "text": [
      "3 2 1 6 5 4 9 8 7 10 \n"
     ]
    }
   ],
   "source": [
    "rev = reverse_every_k_elements(head,3)\n",
    "print_list(rev)\n",
    "#Time Complexity O(N) and Space Complexity O(1)"
   ]
  },
  {
   "cell_type": "code",
   "execution_count": 15,
   "metadata": {},
   "outputs": [],
   "source": [
    "#Reverse every K sized Alternate sublist\n",
    "def reverse_alternate(head,k):\n",
    "    if head is None and k <= 1:\n",
    "        return head\n",
    "    prev, current = None, head\n",
    "    while True:\n",
    "        lastnodeprevious = prev\n",
    "        lastnodesublist = current\n",
    "        next = None\n",
    "        i = 0\n",
    "        while current and i < k:\n",
    "            next = current.next\n",
    "            current.next = prev\n",
    "            prev = current\n",
    "            current = next\n",
    "            i += 1\n",
    "            \n",
    "        if lastnodeprevious:\n",
    "            lastnodeprevious.next = prev\n",
    "        else:\n",
    "            head = prev\n",
    "            \n",
    "        lastnodesublist.next = current\n",
    "        \n",
    "        i = 0\n",
    "        while current and i < k:\n",
    "            prev = current\n",
    "            current = current.next\n",
    "            i += 1\n",
    "            \n",
    "        if current is None:\n",
    "            break\n",
    "    return head"
   ]
  },
  {
   "cell_type": "code",
   "execution_count": 16,
   "metadata": {},
   "outputs": [],
   "source": [
    "head = Node(1)\n",
    "head.next = Node(2)\n",
    "head.next.next = Node(3)\n",
    "head.next.next.next = Node(4)\n",
    "head.next.next.next.next = Node(5)\n",
    "head.next.next.next.next.next = Node(6)\n",
    "head.next.next.next.next.next.next = Node(7)\n",
    "head.next.next.next.next.next.next.next = Node(8)\n",
    "head.next.next.next.next.next.next.next.next = Node(9)\n",
    "head.next.next.next.next.next.next.next.next.next = Node(10)"
   ]
  },
  {
   "cell_type": "code",
   "execution_count": 17,
   "metadata": {},
   "outputs": [
    {
     "name": "stdout",
     "output_type": "stream",
     "text": [
      "1 2 3 4 5 6 7 8 9 10 \n"
     ]
    }
   ],
   "source": [
    "print_list(head)"
   ]
  },
  {
   "cell_type": "code",
   "execution_count": 18,
   "metadata": {},
   "outputs": [
    {
     "name": "stdout",
     "output_type": "stream",
     "text": [
      "2 1 3 4 6 5 7 8 10 9 \n"
     ]
    }
   ],
   "source": [
    "rev =  reverse_alternate(head,2)\n",
    "print_list(rev)\n",
    "#Time Complexity O(N) and Space Complexity O(1)"
   ]
  },
  {
   "cell_type": "code",
   "execution_count": 19,
   "metadata": {},
   "outputs": [],
   "source": [
    "#Rotate Linkedlist\n",
    "def rotate(head,rotations):\n",
    "    if head is None or head.next is None or rotations <= 0:\n",
    "        return head\n",
    "    \n",
    "    lastnode = head\n",
    "    listlength = 1\n",
    "    while lastnode.next:\n",
    "        lastnode = lastnode.next\n",
    "        listlength += 1\n",
    "        \n",
    "    lastnode.next = head\n",
    "    rotations %= listlength\n",
    "    skiplength = listlength - rotations\n",
    "    lastnoderotatedlist = head\n",
    "    for i in range(skiplength-1):\n",
    "        lastnoderotatedlist = lastnoderotatedlist.next\n",
    "    head = lastnoderotatedlist.next\n",
    "    lastnoderotatedlist.next = None\n",
    "    return head"
   ]
  },
  {
   "cell_type": "code",
   "execution_count": 20,
   "metadata": {},
   "outputs": [],
   "source": [
    "head = Node(1)\n",
    "head.next = Node(2)\n",
    "head.next.next = Node(3)\n",
    "head.next.next.next = Node(4)\n",
    "head.next.next.next.next = Node(5)\n",
    "head.next.next.next.next.next = Node(6)"
   ]
  },
  {
   "cell_type": "code",
   "execution_count": 21,
   "metadata": {},
   "outputs": [
    {
     "name": "stdout",
     "output_type": "stream",
     "text": [
      "1 2 3 4 5 6 \n"
     ]
    }
   ],
   "source": [
    "print_list(head)"
   ]
  },
  {
   "cell_type": "code",
   "execution_count": 22,
   "metadata": {},
   "outputs": [
    {
     "name": "stdout",
     "output_type": "stream",
     "text": [
      "4 5 6 1 2 3 \n"
     ]
    }
   ],
   "source": [
    "res = rotate(head,3)\n",
    "print_list(res)\n",
    "#Time Complexity O(N) and Space Complexity O(1)"
   ]
  }
 ],
 "metadata": {
  "kernelspec": {
   "display_name": "Python 3",
   "language": "python",
   "name": "python3"
  },
  "language_info": {
   "codemirror_mode": {
    "name": "ipython",
    "version": 3
   },
   "file_extension": ".py",
   "mimetype": "text/x-python",
   "name": "python",
   "nbconvert_exporter": "python",
   "pygments_lexer": "ipython3",
   "version": "3.7.6"
  }
 },
 "nbformat": 4,
 "nbformat_minor": 4
}
