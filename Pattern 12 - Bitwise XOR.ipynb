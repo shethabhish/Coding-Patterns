{
 "cells": [
  {
   "cell_type": "code",
   "execution_count": 1,
   "metadata": {},
   "outputs": [],
   "source": [
    "#Find missing number\n",
    "def find_missing(arr):\n",
    "    n = len(arr)+1\n",
    "    x1 = 1\n",
    "    for i in range(2,n+1):\n",
    "        x1 ^= i\n",
    "    x2 = arr[0]\n",
    "    for i in range(1,n-1):\n",
    "        x2 ^= arr[i]\n",
    "    return x1^x2"
   ]
  },
  {
   "cell_type": "code",
   "execution_count": 2,
   "metadata": {},
   "outputs": [
    {
     "data": {
      "text/plain": [
       "3"
      ]
     },
     "execution_count": 2,
     "metadata": {},
     "output_type": "execute_result"
    }
   ],
   "source": [
    "find_missing([1,5,2,6,4])\n",
    "#Time Complexity O(N) and Space Complexity O(1)"
   ]
  },
  {
   "cell_type": "code",
   "execution_count": 3,
   "metadata": {},
   "outputs": [],
   "source": [
    "#Single Number\n",
    "def single(arr):\n",
    "    num = 0\n",
    "    for i in arr:\n",
    "        num ^= i\n",
    "    return num"
   ]
  },
  {
   "cell_type": "code",
   "execution_count": 4,
   "metadata": {},
   "outputs": [
    {
     "data": {
      "text/plain": [
       "4"
      ]
     },
     "execution_count": 4,
     "metadata": {},
     "output_type": "execute_result"
    }
   ],
   "source": [
    "single([1,4,2,1,3,2,3])\n",
    "#Time Complexity O(N) and Space Complexity O(1)"
   ]
  },
  {
   "cell_type": "code",
   "execution_count": 5,
   "metadata": {},
   "outputs": [],
   "source": [
    "#Two Single Numbers\n",
    "def find(nums):\n",
    "    n1xn2 = 0\n",
    "    for num in nums:\n",
    "        n1xn2 ^= num\n",
    "    rightmostbit = 1\n",
    "    while (rightmostbit & n1xn2) == 0:\n",
    "        rightmostbit = rightmostbit << 1\n",
    "    num1,num2 = 0,0\n",
    "    \n",
    "    for num in nums:\n",
    "        if (num & rightmostbit) != 0:\n",
    "            num1 ^= num\n",
    "        else:\n",
    "            num2 ^= num\n",
    "    return [num1,num2]"
   ]
  },
  {
   "cell_type": "code",
   "execution_count": 6,
   "metadata": {},
   "outputs": [
    {
     "data": {
      "text/plain": [
       "[6, 4]"
      ]
     },
     "execution_count": 6,
     "metadata": {},
     "output_type": "execute_result"
    }
   ],
   "source": [
    "find([1, 4, 2, 1, 3, 5, 6, 2, 3, 5])\n",
    "#Time Complexity O(N) and Space Complexity O(1)"
   ]
  },
  {
   "cell_type": "code",
   "execution_count": 7,
   "metadata": {},
   "outputs": [],
   "source": [
    "#Complement of Base 10 Number\n",
    "def binary(num):\n",
    "    bitcount,n = 0,num\n",
    "    while n > 0:\n",
    "        bitcount += 1\n",
    "        n = n >> 1\n",
    "    allbits = pow(2,bitcount) - 1\n",
    "    return num ^ allbits"
   ]
  },
  {
   "cell_type": "code",
   "execution_count": 8,
   "metadata": {},
   "outputs": [
    {
     "data": {
      "text/plain": [
       "7"
      ]
     },
     "execution_count": 8,
     "metadata": {},
     "output_type": "execute_result"
    }
   ],
   "source": [
    "binary(8)\n",
    "#Time Complexity O(B) and Space Complexity O(1)"
   ]
  },
  {
   "cell_type": "code",
   "execution_count": 9,
   "metadata": {},
   "outputs": [],
   "source": [
    "#Binary Matrix\n",
    "def flip(matrix):\n",
    "    n = len(matrix)\n",
    "    for row in matrix:\n",
    "        for i in range((n+1)//2):\n",
    "            row[i],row[n-i-1] = row[n-i-1]^1, row[i]^1\n",
    "    return matrix"
   ]
  },
  {
   "cell_type": "code",
   "execution_count": 10,
   "metadata": {},
   "outputs": [
    {
     "data": {
      "text/plain": [
       "[[0, 1, 0], [0, 0, 0], [0, 0, 1]]"
      ]
     },
     "execution_count": 10,
     "metadata": {},
     "output_type": "execute_result"
    }
   ],
   "source": [
    "flip([[1,0,1],[1,1,1],[0,1,1]])\n",
    "#Time Complexity O(N) and Space Complexity O(1)"
   ]
  }
 ],
 "metadata": {
  "kernelspec": {
   "display_name": "Python 3",
   "language": "python",
   "name": "python3"
  },
  "language_info": {
   "codemirror_mode": {
    "name": "ipython",
    "version": 3
   },
   "file_extension": ".py",
   "mimetype": "text/x-python",
   "name": "python",
   "nbconvert_exporter": "python",
   "pygments_lexer": "ipython3",
   "version": "3.7.6"
  }
 },
 "nbformat": 4,
 "nbformat_minor": 4
}
