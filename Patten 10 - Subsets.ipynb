{
 "cells": [
  {
   "cell_type": "code",
   "execution_count": 1,
   "metadata": {},
   "outputs": [],
   "source": [
    "#Find Subsets\n",
    "def find_subsets(nums):\n",
    "    subsets = []\n",
    "    subsets.append([])\n",
    "    for currentnumber in nums:\n",
    "        for i in range(len(subsets)):\n",
    "            sub = list(subsets[i])\n",
    "            sub.append(currentnumber)\n",
    "            subsets.append(sub)\n",
    "    return subsets"
   ]
  },
  {
   "cell_type": "code",
   "execution_count": 2,
   "metadata": {},
   "outputs": [
    {
     "data": {
      "text/plain": [
       "[[], [1], [5], [1, 5], [3], [1, 3], [5, 3], [1, 5, 3]]"
      ]
     },
     "execution_count": 2,
     "metadata": {},
     "output_type": "execute_result"
    }
   ],
   "source": [
    "find_subsets([1,5,3])\n",
    "#Time Complexity O(2^n) and Space Complexity O(2^N)"
   ]
  },
  {
   "cell_type": "code",
   "execution_count": 3,
   "metadata": {},
   "outputs": [],
   "source": [
    "#Find Subsets with Duplicates\n",
    "def find_subsets(nums):\n",
    "    nums.sort()\n",
    "    subsets = []\n",
    "    subsets.append([])\n",
    "    start,end =0,0\n",
    "    for i in range(len(nums)):\n",
    "        start = 0\n",
    "        if i > 0 and nums[i] == nums[i-1]:\n",
    "            start = end + 1\n",
    "        end = len(subsets)-1\n",
    "        for j in range(start,end+1):\n",
    "            sub = list(subsets[j])\n",
    "            sub.append(nums[i])\n",
    "            subsets.append(sub)\n",
    "    return subsets"
   ]
  },
  {
   "cell_type": "code",
   "execution_count": 4,
   "metadata": {},
   "outputs": [
    {
     "data": {
      "text/plain": [
       "[[],\n",
       " [1],\n",
       " [3],\n",
       " [1, 3],\n",
       " [3, 3],\n",
       " [1, 3, 3],\n",
       " [5],\n",
       " [1, 5],\n",
       " [3, 5],\n",
       " [1, 3, 5],\n",
       " [3, 3, 5],\n",
       " [1, 3, 3, 5]]"
      ]
     },
     "execution_count": 4,
     "metadata": {},
     "output_type": "execute_result"
    }
   ],
   "source": [
    "find_subsets([1,5,3,3])\n",
    "#Time Complexity O(2^N) and Space Complexity O(2^N)"
   ]
  },
  {
   "cell_type": "code",
   "execution_count": 5,
   "metadata": {},
   "outputs": [],
   "source": [
    "#Permutations\n",
    "from collections import deque\n",
    "def find_permutation(nums):\n",
    "    result = []\n",
    "    permutations = deque()\n",
    "    permutations.append([])\n",
    "\n",
    "    for currentnumber in nums:\n",
    "        for _ in range(len(permutations)):\n",
    "            permu = permutations.popleft()\n",
    "            for j in range(len(permu)+1):\n",
    "                newpermu = list(permu)\n",
    "                newpermu.insert(j,currentnumber)\n",
    "                if len(newpermu) == len(nums):\n",
    "                    result.append(newpermu)\n",
    "                else:\n",
    "                    permutations.append(newpermu)\n",
    "    return result"
   ]
  },
  {
   "cell_type": "code",
   "execution_count": 6,
   "metadata": {},
   "outputs": [
    {
     "data": {
      "text/plain": [
       "[[5, 3, 1], [3, 5, 1], [3, 1, 5], [5, 1, 3], [1, 5, 3], [1, 3, 5]]"
      ]
     },
     "execution_count": 6,
     "metadata": {},
     "output_type": "execute_result"
    }
   ],
   "source": [
    "find_permutation([1,3,5])\n",
    "#Time Complexity O(N*N!) and Space Complexity O(N*N!)"
   ]
  },
  {
   "cell_type": "code",
   "execution_count": 7,
   "metadata": {},
   "outputs": [],
   "source": [
    "#String Permutations\n",
    "def string_permutations(s):\n",
    "    result = []\n",
    "    result.append(s)\n",
    "    for i in range(len(s)):\n",
    "        if s[i].isalpha():\n",
    "            for j in range(len(result)):\n",
    "                chs = list(result[j])\n",
    "                chs[i] = chs[i].swapcase()\n",
    "                result.append(''.join(chs))\n",
    "    return result"
   ]
  },
  {
   "cell_type": "code",
   "execution_count": 8,
   "metadata": {},
   "outputs": [
    {
     "data": {
      "text/plain": [
       "['ad52', 'Ad52', 'aD52', 'AD52']"
      ]
     },
     "execution_count": 8,
     "metadata": {},
     "output_type": "execute_result"
    }
   ],
   "source": [
    "string_permutations(\"ad52\")\n",
    "#Time Complexity O(N*2^n) and Space Complexity O(N*2^n)"
   ]
  },
  {
   "cell_type": "code",
   "execution_count": 9,
   "metadata": {},
   "outputs": [],
   "source": [
    "#Balanced Parenthesis\n",
    "def balanced_parenthesis(count):\n",
    "    result = []\n",
    "    generate_parenthesis(count,count,\"\",result)\n",
    "    return result\n",
    "\n",
    "def generate_parenthesis(opencount,closecount,temp,result):\n",
    "    if opencount == 0 and closecount == 0:\n",
    "        result.append(temp)\n",
    "    if opencount > 0:\n",
    "        generate_parenthesis(opencount-1,closecount,temp+'(',result)\n",
    "    if closecount > opencount:\n",
    "        generate_parenthesis(opencount,closecount-1,temp+')',result)        "
   ]
  },
  {
   "cell_type": "code",
   "execution_count": 10,
   "metadata": {},
   "outputs": [
    {
     "data": {
      "text/plain": [
       "['((()))', '(()())', '(())()', '()(())', '()()()']"
      ]
     },
     "execution_count": 10,
     "metadata": {},
     "output_type": "execute_result"
    }
   ],
   "source": [
    "balanced_parenthesis(3)\n",
    "#Time Complexity O(N*2^n) and Space Complexity O(N*2^n)"
   ]
  },
  {
   "cell_type": "code",
   "execution_count": 11,
   "metadata": {},
   "outputs": [],
   "source": [
    "#Unique Generalized Abbreviation\n",
    "def unique_abbreviation(word):\n",
    "    result = []\n",
    "    generate_abbreviation(word,list(),0,0,result)\n",
    "    return result\n",
    "\n",
    "def generate_abbreviation(word,abbreviation,start,count,result):\n",
    "    if start == len(word):\n",
    "        if count != 0:\n",
    "            abbreviation.append(str(count))\n",
    "        result.append(''.join(abbreviation))\n",
    "    else:\n",
    "        generate_abbreviation(word,list(abbreviation),start+1,count+1,result)\n",
    "        \n",
    "        if count != 0:\n",
    "            abbreviation.append(str(count))\n",
    "        newword = list(abbreviation)\n",
    "        newword.append(word[start])\n",
    "        generate_abbreviation(word,newword,start+1,0,result)"
   ]
  },
  {
   "cell_type": "code",
   "execution_count": 12,
   "metadata": {},
   "outputs": [
    {
     "data": {
      "text/plain": [
       "['3', '2T', '1A1', '1AT', 'B2', 'B1T', 'BA1', 'BAT']"
      ]
     },
     "execution_count": 12,
     "metadata": {},
     "output_type": "execute_result"
    }
   ],
   "source": [
    "unique_abbreviation(\"BAT\")\n",
    "#Time Complexity O(N*2^n) and Space Complexity O(N*2^n)"
   ]
  },
  {
   "cell_type": "code",
   "execution_count": 13,
   "metadata": {},
   "outputs": [],
   "source": [
    "#Evaluate Expression\n",
    "def evaluate_expression(expression):\n",
    "    result = []\n",
    "    if '+' not in expression and '-' not in expression and '*' not in expression:\n",
    "        result.append(int(expression))\n",
    "    else:\n",
    "        for i in range(len(expression)):\n",
    "            char = expression[i]\n",
    "            if not char.isdigit():\n",
    "                left = evaluate_expression(expression[0:i])\n",
    "                right = evaluate_expression(expression[i+1:])\n",
    "                for i in left:\n",
    "                    for j in right:\n",
    "                        if char == '+':\n",
    "                            result.append(i+j)\n",
    "                        elif char == '-':\n",
    "                            result.append(i-j)\n",
    "                        elif char =='*':\n",
    "                            result.append(i*j)\n",
    "    return result"
   ]
  },
  {
   "cell_type": "code",
   "execution_count": 14,
   "metadata": {},
   "outputs": [
    {
     "data": {
      "text/plain": [
       "[8, -12, 7, -7, -3]"
      ]
     },
     "execution_count": 14,
     "metadata": {},
     "output_type": "execute_result"
    }
   ],
   "source": [
    "evaluate_expression(\"2*3-4-5\")\n",
    "#Time Complexity O(N*2^n) and Space Complexity O(2^n)"
   ]
  },
  {
   "cell_type": "code",
   "execution_count": 15,
   "metadata": {},
   "outputs": [],
   "source": [
    "#Structurally Unique Binary Search Trees\n",
    "class Tree:\n",
    "    def __init__(self,val):\n",
    "        self.val = val\n",
    "        self.left, self.right = None, None\n",
    "\n",
    "def find_unique_trees(n):\n",
    "    if n <= 0:\n",
    "        return []\n",
    "    return find_trees(1,n)\n",
    "\n",
    "def find_trees(start,end):\n",
    "    result = []\n",
    "    if start > end:\n",
    "        result.append(None)\n",
    "        return result\n",
    "    for i in range(start,end+1):\n",
    "        left = find_trees(start,i-1)\n",
    "        right = find_trees(i+1,end)\n",
    "        for lefttree in left:\n",
    "            for righttree in right:\n",
    "                root = Tree(i)\n",
    "                root.left = lefttree\n",
    "                root.right = righttree\n",
    "                result.append(root)\n",
    "    return result"
   ]
  },
  {
   "cell_type": "code",
   "execution_count": 16,
   "metadata": {},
   "outputs": [
    {
     "data": {
      "text/plain": [
       "5"
      ]
     },
     "execution_count": 16,
     "metadata": {},
     "output_type": "execute_result"
    }
   ],
   "source": [
    "len(find_unique_trees(3))\n",
    "#Time Complexity O(N*2^n) and Space Complexity O(2^n)"
   ]
  },
  {
   "cell_type": "code",
   "execution_count": 17,
   "metadata": {},
   "outputs": [],
   "source": [
    "#Count of Structurally Unique Binary Search Trees\n",
    "def count_trees(n):\n",
    "    if n <= 1:\n",
    "        return 1\n",
    "    count = 0\n",
    "    for i in range(1,n+1):\n",
    "        left = count_trees(i-1)\n",
    "        right = count_trees(n-i)\n",
    "        count += (left * right)\n",
    "    return count"
   ]
  },
  {
   "cell_type": "code",
   "execution_count": 18,
   "metadata": {},
   "outputs": [
    {
     "data": {
      "text/plain": [
       "5"
      ]
     },
     "execution_count": 18,
     "metadata": {},
     "output_type": "execute_result"
    }
   ],
   "source": [
    "count_trees(3)\n",
    "#Time Complexity O(N*2^n) and Space Complexity O(2^n)"
   ]
  },
  {
   "cell_type": "code",
   "execution_count": 19,
   "metadata": {},
   "outputs": [],
   "source": [
    "#The above problem has overlapping subproblems in recursion, so we can use memoization to reduce the time complexity\n",
    "def count_trees(n):\n",
    "    return count({},n)\n",
    "\n",
    "def count(trees,n):\n",
    "    if n in trees:\n",
    "        return trees[n]\n",
    "    if n <= 1:\n",
    "        return 1\n",
    "    cnt = 0\n",
    "    for i in range(1,n+1):\n",
    "        left = count(trees,i-1)\n",
    "        right = count(trees,n-i)\n",
    "        cnt += (left*right)\n",
    "    trees[n] = cnt\n",
    "    return cnt"
   ]
  },
  {
   "cell_type": "code",
   "execution_count": 20,
   "metadata": {},
   "outputs": [
    {
     "data": {
      "text/plain": [
       "5"
      ]
     },
     "execution_count": 20,
     "metadata": {},
     "output_type": "execute_result"
    }
   ],
   "source": [
    "count_trees(3)\n",
    "#Time Complexity O(N^2) and Space Complexity O(N)"
   ]
  }
 ],
 "metadata": {
  "kernelspec": {
   "display_name": "Python 3",
   "language": "python",
   "name": "python3"
  },
  "language_info": {
   "codemirror_mode": {
    "name": "ipython",
    "version": 3
   },
   "file_extension": ".py",
   "mimetype": "text/x-python",
   "name": "python",
   "nbconvert_exporter": "python",
   "pygments_lexer": "ipython3",
   "version": "3.7.6"
  }
 },
 "nbformat": 4,
 "nbformat_minor": 4
}
